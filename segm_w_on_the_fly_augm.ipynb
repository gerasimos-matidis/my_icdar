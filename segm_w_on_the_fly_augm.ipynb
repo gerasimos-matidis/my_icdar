{
 "cells": [
  {
   "cell_type": "markdown",
   "metadata": {
    "id": "KslpdmUtsrRq"
   },
   "source": [
    "# Semantic Segmentation with on the fly Data Augmentation\n"
   ]
  },
  {
   "cell_type": "code",
   "execution_count": 3,
   "metadata": {
    "id": "0m3L9i6n-cCC"
   },
   "outputs": [],
   "source": [
    "import matplotlib.pyplot as plt\n",
    "import numpy as np\n",
    "import tensorflow as tf\n",
    "from tensorflow import keras\n",
    "from keras_preprocessing.image import ImageDataGenerator\n",
    "from gm_networks import unet_model\n",
    "from utils import center_crop"
   ]
  },
  {
   "cell_type": "code",
   "execution_count": 4,
   "metadata": {
    "id": "4D3hgHsHvHrt"
   },
   "outputs": [],
   "source": [
    "# Load the initial input and output images and expand their dimensions to fit the ImageDataGenerator \n",
    "# For inputs: initial_dimensions = (width, height, 3) ---> new_dimensions = (1, width, height, 3)\n",
    "# For outputs: initial_dimensions = (width, height) ---> new_dimensions = (1, width, height, 1)\n",
    "x_initial_train = plt.imread('train/101-INPUT.jpg')\n",
    "y_initial_train = plt.imread('train/101-OUTPUT-GT.png')\n",
    "x_initial_train = np.expand_dims(x_initial_train, 0) \n",
    "y_initial_train = np.expand_dims(y_initial_train, (0, -1)) "
   ]
  },
  {
   "cell_type": "code",
   "execution_count": 36,
   "metadata": {
    "id": "b62OZ7Rx9Un7"
   },
   "outputs": [],
   "source": [
    "# Model/training hyperparameters\n",
    "INPUT_SHAPE = (572, 572, 3)\n",
    "INITIAL_FILTERS = 32\n",
    "PADDING = 'valid'\n",
    "\n",
    "BATCH_SIZE = 8\n",
    "EPOCHS = 150\n",
    "steps_per_epoch = TRAIN_IMAGES_NUMBER // BATCH_SIZE# Define the new size to create images of size (NEW_SIZE, NEW_SIZE), as well as define the number of train and validation images to be created"
   ]
  },
  {
   "cell_type": "code",
   "execution_count": 38,
   "metadata": {},
   "outputs": [],
   "source": [
    "model = unet_model(input_shape=INPUT_SHAPE, initial_filters=INITIAL_FILTERS, padding=PADDING)\n"
   ]
  },
  {
   "cell_type": "code",
   "execution_count": 26,
   "metadata": {},
   "outputs": [
    {
     "name": "stdout",
     "output_type": "stream",
     "text": [
      "(388, 388)\n",
      "(1, 6360, 8300, 1)\n"
     ]
    }
   ],
   "source": [
    "print(model.output_shape[1:3])\n",
    "print(y_initial_train.shape)\n",
    "# TODO: center_crop the y_initial_train tensor "
   ]
  },
  {
   "cell_type": "code",
   "execution_count": 31,
   "metadata": {
    "id": "CWcEEEXG5d8K"
   },
   "outputs": [],
   "source": [
    "TRAIN_IMAGES_NUMBER = 300\n",
    "new_size = INPUT_SHAPE[0]\n",
    "\n",
    "# Concatenate the respective inputs and outputs to ensure that they will undergo the same crop\n",
    "concatenated_images_train = np.concatenate([x_initial_train, y_initial_train], -1)\n",
    "\n",
    "# Initialize the tensors for the training batches\n",
    "croped_images_train = np.zeros([TRAIN_IMAGES_NUMBER, new_size, new_size, 4])\n",
    "\n",
    "# Random croping\n",
    "for i in range(TRAIN_IMAGES_NUMBER):\n",
    "    \n",
    "    t = tf.image.random_crop(concatenated_images_train, size=[1, new_size, new_size, 4])\n",
    "    croped_images_train[i] = t[0]\n",
    "\n",
    "# Separate the inputs from the outputs to create the final batches\n",
    "x_train = croped_images_train[:, :, :, :3]\n",
    "y_train = np.expand_dims(croped_images_train[:, :, :, 3], -1)\n",
    "\n",
    "if PADDING == 'valid':\n",
    "    y_train = center_crop(y_train, model.output_shape[1:3])\n"
   ]
  },
  {
   "cell_type": "code",
   "execution_count": 33,
   "metadata": {},
   "outputs": [
    {
     "name": "stdout",
     "output_type": "stream",
     "text": [
      "(300, 572, 572, 3)\n"
     ]
    }
   ],
   "source": [
    "print(x_train.shape)"
   ]
  },
  {
   "cell_type": "code",
   "execution_count": 34,
   "metadata": {
    "id": "uD8KTAOSDZXE"
   },
   "outputs": [],
   "source": [
    "# Create dictionaries with the alterations to be used for the data augmentation operations for inputs and outputs\n",
    "\"\"\"\"\n",
    "NOTE: It is important to use exact the same values for the parameters in both dictionaries. \n",
    "The reason why we create 2 dictionaries instead of a common one is because  we want to add the \n",
    "preprocessing function for the output masks (this function sets all the pixel values of the mask to 0 or 1. \n",
    "While the initial ground truth images are binary, after the data augmentation operations, such as rotations and \n",
    "shifts, pixels with intermediate values are appeared due to interpolation)\n",
    "\"\"\"\n",
    "x_datagen_args = dict(\n",
    "    rotation_range=25, \n",
    "    width_shift_range=0.1, \n",
    "    height_shift_range=0.1,\n",
    "    shear_range=0.1,\n",
    "    zoom_range=0.1,\n",
    "    horizontal_flip=True,\n",
    "    vertical_flip=True,\n",
    "    fill_mode='reflect')\n",
    "\n",
    "y_datagen_args = dict(\n",
    "    rotation_range=25, \n",
    "    width_shift_range=0.1, \n",
    "    height_shift_range=0.1,\n",
    "    shear_range=0.1,\n",
    "    zoom_range=0.1,\n",
    "    horizontal_flip=True,\n",
    "    vertical_flip=True,\n",
    "    fill_mode='reflect', \n",
    "    preprocessing_function = lambda x: np.where(x>0, 1, 0).astype(x.dtype))"
   ]
  },
  {
   "cell_type": "code",
   "execution_count": 35,
   "metadata": {
    "id": "t9mScpdzDhK2"
   },
   "outputs": [],
   "source": [
    "# Instatiate the generators\n",
    "x_datagen = ImageDataGenerator(**x_datagen_args)\n",
    "y_datagen = ImageDataGenerator(**y_datagen_args)\n",
    "\n",
    "# Setting the same seed number for both generators leads to the same random alterations for both generators\n",
    "seed = 19\n",
    "x_datagen.fit(x_train, augment=True, seed=seed)\n",
    "y_datagen.fit(y_train, augment=True, seed=seed)\n",
    "\n",
    "x_generator_train = x_datagen.flow(x_train, seed=seed, batch_size=BATCH_SIZE)\n",
    "y_generator_train = y_datagen.flow(y_train, seed=seed, batch_size=BATCH_SIZE)\n",
    "\n",
    "train_generator = zip(x_generator_train, y_generator_train)"
   ]
  },
  {
   "cell_type": "code",
   "execution_count": 39,
   "metadata": {
    "id": "wwG7zHnrDka3"
   },
   "outputs": [
    {
     "name": "stdout",
     "output_type": "stream",
     "text": [
      "Epoch 1/150\n"
     ]
    },
    {
     "name": "stderr",
     "output_type": "stream",
     "text": [
      "2022-02-20 20:42:26.207183: I tensorflow/stream_executor/cuda/cuda_dnn.cc:368] Loaded cuDNN version 8301\n"
     ]
    },
    {
     "name": "stdout",
     "output_type": "stream",
     "text": [
      "37/37 [==============================] - 14s 251ms/step - loss: 0.5850 - accuracy: 0.6977\n",
      "Epoch 2/150\n",
      "37/37 [==============================] - 11s 252ms/step - loss: 0.5179 - accuracy: 0.7376\n",
      "Epoch 3/150\n",
      "37/37 [==============================] - 9s 251ms/step - loss: 0.5037 - accuracy: 0.7437\n",
      "Epoch 4/150\n",
      "37/37 [==============================] - 9s 251ms/step - loss: 0.5146 - accuracy: 0.7451\n",
      "Epoch 5/150\n",
      "37/37 [==============================] - 9s 256ms/step - loss: 0.4995 - accuracy: 0.7514\n",
      "Epoch 6/150\n",
      "37/37 [==============================] - 9s 254ms/step - loss: 0.4867 - accuracy: 0.7606\n",
      "Epoch 7/150\n",
      "37/37 [==============================] - 9s 252ms/step - loss: 0.4805 - accuracy: 0.7623\n",
      "Epoch 8/150\n",
      "37/37 [==============================] - 9s 254ms/step - loss: 0.4597 - accuracy: 0.7718\n",
      "Epoch 9/150\n",
      "37/37 [==============================] - 9s 253ms/step - loss: 0.4597 - accuracy: 0.7803\n",
      "Epoch 10/150\n",
      "37/37 [==============================] - 9s 254ms/step - loss: 0.4492 - accuracy: 0.7852\n",
      "Epoch 11/150\n",
      "37/37 [==============================] - 9s 252ms/step - loss: 0.4530 - accuracy: 0.7799\n",
      "Epoch 12/150\n",
      "37/37 [==============================] - 9s 253ms/step - loss: 0.4582 - accuracy: 0.7841\n",
      "Epoch 13/150\n",
      "37/37 [==============================] - 9s 252ms/step - loss: 0.4403 - accuracy: 0.7916\n",
      "Epoch 14/150\n",
      "37/37 [==============================] - 9s 252ms/step - loss: 0.4121 - accuracy: 0.8083\n",
      "Epoch 15/150\n",
      "37/37 [==============================] - 9s 251ms/step - loss: 0.4290 - accuracy: 0.7978\n",
      "Epoch 16/150\n",
      "37/37 [==============================] - 9s 252ms/step - loss: 0.4177 - accuracy: 0.8061\n",
      "Epoch 17/150\n",
      "37/37 [==============================] - 9s 254ms/step - loss: 0.4358 - accuracy: 0.7922\n",
      "Epoch 18/150\n",
      "37/37 [==============================] - 9s 255ms/step - loss: 0.3956 - accuracy: 0.8181\n",
      "Epoch 19/150\n",
      "37/37 [==============================] - 9s 252ms/step - loss: 0.3896 - accuracy: 0.8207\n",
      "Epoch 20/150\n",
      "37/37 [==============================] - 9s 254ms/step - loss: 0.3912 - accuracy: 0.8179\n",
      "Epoch 21/150\n",
      "37/37 [==============================] - 9s 251ms/step - loss: 0.3995 - accuracy: 0.8152\n",
      "Epoch 22/150\n",
      "37/37 [==============================] - 9s 255ms/step - loss: 0.3831 - accuracy: 0.8243\n",
      "Epoch 23/150\n",
      "37/37 [==============================] - 9s 255ms/step - loss: 0.3708 - accuracy: 0.8312\n",
      "Epoch 24/150\n",
      "37/37 [==============================] - 9s 254ms/step - loss: 0.3702 - accuracy: 0.8308\n",
      "Epoch 25/150\n",
      "37/37 [==============================] - 10s 257ms/step - loss: 0.3725 - accuracy: 0.8289\n",
      "Epoch 26/150\n",
      "37/37 [==============================] - 9s 256ms/step - loss: 0.3991 - accuracy: 0.8173\n",
      "Epoch 27/150\n",
      "37/37 [==============================] - 9s 256ms/step - loss: 0.3718 - accuracy: 0.8282\n",
      "Epoch 28/150\n",
      "37/37 [==============================] - 9s 256ms/step - loss: 0.3867 - accuracy: 0.8251\n",
      "Epoch 29/150\n",
      "37/37 [==============================] - 9s 253ms/step - loss: 0.3809 - accuracy: 0.8232\n",
      "Epoch 30/150\n",
      "37/37 [==============================] - 9s 257ms/step - loss: 0.3520 - accuracy: 0.8400\n",
      "Epoch 31/150\n",
      "37/37 [==============================] - 9s 255ms/step - loss: 0.3495 - accuracy: 0.8408\n",
      "Epoch 32/150\n",
      "37/37 [==============================] - 9s 252ms/step - loss: 0.3513 - accuracy: 0.8404\n",
      "Epoch 33/150\n",
      "37/37 [==============================] - 9s 252ms/step - loss: 0.3634 - accuracy: 0.8341\n",
      "Epoch 34/150\n",
      "37/37 [==============================] - 9s 255ms/step - loss: 0.3515 - accuracy: 0.8420\n",
      "Epoch 35/150\n",
      "37/37 [==============================] - 9s 256ms/step - loss: 0.3514 - accuracy: 0.8402\n",
      "Epoch 36/150\n",
      "37/37 [==============================] - 10s 257ms/step - loss: 0.3565 - accuracy: 0.8375\n",
      "Epoch 37/150\n",
      "37/37 [==============================] - 10s 258ms/step - loss: 0.3442 - accuracy: 0.8447\n",
      "Epoch 38/150\n",
      "37/37 [==============================] - 9s 255ms/step - loss: 0.3376 - accuracy: 0.8470\n",
      "Epoch 39/150\n",
      "37/37 [==============================] - 10s 257ms/step - loss: 0.3247 - accuracy: 0.8524\n",
      "Epoch 40/150\n",
      "37/37 [==============================] - 9s 260ms/step - loss: 0.3356 - accuracy: 0.8485\n",
      "Epoch 41/150\n",
      "37/37 [==============================] - 9s 256ms/step - loss: 0.3556 - accuracy: 0.8354\n",
      "Epoch 42/150\n",
      "37/37 [==============================] - 9s 256ms/step - loss: 0.3355 - accuracy: 0.8487\n",
      "Epoch 43/150\n",
      "37/37 [==============================] - 10s 257ms/step - loss: 0.3325 - accuracy: 0.8520\n",
      "Epoch 44/150\n",
      "37/37 [==============================] - 10s 261ms/step - loss: 0.3253 - accuracy: 0.8545\n",
      "Epoch 45/150\n",
      "37/37 [==============================] - 9s 256ms/step - loss: 0.3241 - accuracy: 0.8535\n",
      "Epoch 46/150\n",
      "37/37 [==============================] - 9s 256ms/step - loss: 0.3324 - accuracy: 0.8516\n",
      "Epoch 47/150\n",
      "37/37 [==============================] - 10s 257ms/step - loss: 0.3308 - accuracy: 0.8508\n",
      "Epoch 48/150\n",
      "37/37 [==============================] - 9s 256ms/step - loss: 0.3764 - accuracy: 0.8290\n",
      "Epoch 49/150\n",
      "37/37 [==============================] - 9s 254ms/step - loss: 0.3644 - accuracy: 0.8319\n",
      "Epoch 50/150\n",
      "37/37 [==============================] - 9s 254ms/step - loss: 0.3206 - accuracy: 0.8545\n",
      "Epoch 51/150\n",
      "37/37 [==============================] - 9s 256ms/step - loss: 0.3426 - accuracy: 0.8458\n",
      "Epoch 52/150\n",
      "37/37 [==============================] - 10s 258ms/step - loss: 0.3179 - accuracy: 0.8590\n",
      "Epoch 53/150\n",
      "37/37 [==============================] - 9s 255ms/step - loss: 0.3247 - accuracy: 0.8563\n",
      "Epoch 54/150\n",
      "37/37 [==============================] - 9s 255ms/step - loss: 0.3131 - accuracy: 0.8585\n",
      "Epoch 55/150\n",
      "37/37 [==============================] - 9s 254ms/step - loss: 0.3171 - accuracy: 0.8544\n",
      "Epoch 56/150\n",
      "37/37 [==============================] - 9s 255ms/step - loss: 0.3385 - accuracy: 0.8423\n",
      "Epoch 57/150\n",
      "37/37 [==============================] - 10s 257ms/step - loss: 0.3329 - accuracy: 0.8512\n",
      "Epoch 58/150\n",
      "37/37 [==============================] - 9s 257ms/step - loss: 0.3122 - accuracy: 0.8590\n",
      "Epoch 59/150\n",
      "37/37 [==============================] - 9s 256ms/step - loss: 0.3330 - accuracy: 0.8494\n",
      "Epoch 60/150\n",
      "37/37 [==============================] - 9s 257ms/step - loss: 0.3221 - accuracy: 0.8554\n",
      "Epoch 61/150\n",
      "37/37 [==============================] - 9s 255ms/step - loss: 0.3181 - accuracy: 0.8572\n",
      "Epoch 62/150\n",
      "37/37 [==============================] - 10s 259ms/step - loss: 0.3111 - accuracy: 0.8601\n",
      "Epoch 63/150\n",
      "37/37 [==============================] - 10s 257ms/step - loss: 0.3225 - accuracy: 0.8562\n",
      "Epoch 64/150\n",
      "37/37 [==============================] - 10s 258ms/step - loss: 0.3156 - accuracy: 0.8583\n",
      "Epoch 65/150\n",
      "37/37 [==============================] - 9s 255ms/step - loss: 0.2876 - accuracy: 0.8707\n",
      "Epoch 66/150\n",
      "37/37 [==============================] - 10s 258ms/step - loss: 0.3069 - accuracy: 0.8586\n",
      "Epoch 67/150\n",
      "37/37 [==============================] - 10s 258ms/step - loss: 0.3102 - accuracy: 0.8593\n",
      "Epoch 68/150\n",
      "37/37 [==============================] - 9s 256ms/step - loss: 0.3038 - accuracy: 0.8620\n",
      "Epoch 69/150\n",
      "37/37 [==============================] - 9s 255ms/step - loss: 0.2995 - accuracy: 0.8643\n",
      "Epoch 70/150\n",
      "37/37 [==============================] - 9s 254ms/step - loss: 0.2930 - accuracy: 0.8701\n",
      "Epoch 71/150\n",
      "37/37 [==============================] - 9s 254ms/step - loss: 0.2938 - accuracy: 0.8669\n",
      "Epoch 72/150\n",
      "37/37 [==============================] - 9s 256ms/step - loss: 0.3344 - accuracy: 0.8522\n",
      "Epoch 73/150\n",
      "37/37 [==============================] - 10s 258ms/step - loss: 0.3314 - accuracy: 0.8505\n",
      "Epoch 74/150\n",
      "37/37 [==============================] - 9s 256ms/step - loss: 0.2938 - accuracy: 0.8662\n",
      "Epoch 75/150\n",
      "37/37 [==============================] - 9s 254ms/step - loss: 0.3130 - accuracy: 0.8576\n",
      "Epoch 76/150\n",
      "37/37 [==============================] - 9s 252ms/step - loss: 0.3040 - accuracy: 0.8636\n",
      "Epoch 77/150\n",
      "37/37 [==============================] - 10s 259ms/step - loss: 0.2906 - accuracy: 0.8682\n",
      "Epoch 78/150\n",
      "37/37 [==============================] - 9s 261ms/step - loss: 0.2908 - accuracy: 0.8704\n",
      "Epoch 79/150\n",
      "37/37 [==============================] - 9s 254ms/step - loss: 0.2899 - accuracy: 0.8682\n",
      "Epoch 80/150\n",
      "37/37 [==============================] - 10s 256ms/step - loss: 0.2864 - accuracy: 0.8697\n",
      "Epoch 81/150\n"
     ]
    },
    {
     "name": "stdout",
     "output_type": "stream",
     "text": [
      "37/37 [==============================] - 10s 257ms/step - loss: 0.2963 - accuracy: 0.8667\n",
      "Epoch 82/150\n",
      "37/37 [==============================] - 10s 257ms/step - loss: 0.2907 - accuracy: 0.8715\n",
      "Epoch 83/150\n",
      "37/37 [==============================] - 9s 255ms/step - loss: 0.2930 - accuracy: 0.8679\n",
      "Epoch 84/150\n",
      "37/37 [==============================] - 9s 257ms/step - loss: 0.2956 - accuracy: 0.8669\n",
      "Epoch 85/150\n",
      "37/37 [==============================] - 10s 258ms/step - loss: 0.2952 - accuracy: 0.8675\n",
      "Epoch 86/150\n",
      "37/37 [==============================] - 9s 255ms/step - loss: 0.2939 - accuracy: 0.8663\n",
      "Epoch 87/150\n",
      "37/37 [==============================] - 9s 255ms/step - loss: 0.2687 - accuracy: 0.8819\n",
      "Epoch 88/150\n",
      "37/37 [==============================] - 10s 257ms/step - loss: 0.2808 - accuracy: 0.8718\n",
      "Epoch 89/150\n",
      "37/37 [==============================] - 9s 256ms/step - loss: 0.2959 - accuracy: 0.8679\n",
      "Epoch 90/150\n",
      "37/37 [==============================] - 9s 253ms/step - loss: 0.2863 - accuracy: 0.8700\n",
      "Epoch 91/150\n",
      "37/37 [==============================] - 10s 258ms/step - loss: 0.2941 - accuracy: 0.8670\n",
      "Epoch 92/150\n",
      "37/37 [==============================] - 10s 258ms/step - loss: 0.2820 - accuracy: 0.8715\n",
      "Epoch 93/150\n",
      "37/37 [==============================] - 10s 256ms/step - loss: 0.2893 - accuracy: 0.8681\n",
      "Epoch 94/150\n",
      "37/37 [==============================] - 9s 253ms/step - loss: 0.2624 - accuracy: 0.8812\n",
      "Epoch 95/150\n",
      "37/37 [==============================] - 10s 258ms/step - loss: 0.2711 - accuracy: 0.8765\n",
      "Epoch 96/150\n",
      "37/37 [==============================] - 9s 254ms/step - loss: 0.2790 - accuracy: 0.8733\n",
      "Epoch 97/150\n",
      "37/37 [==============================] - 9s 254ms/step - loss: 0.3054 - accuracy: 0.8644\n",
      "Epoch 98/150\n",
      "37/37 [==============================] - 9s 255ms/step - loss: 0.2817 - accuracy: 0.8720\n",
      "Epoch 99/150\n",
      "37/37 [==============================] - 10s 260ms/step - loss: 0.2933 - accuracy: 0.8656\n",
      "Epoch 100/150\n",
      "37/37 [==============================] - 9s 255ms/step - loss: 0.2681 - accuracy: 0.8801\n",
      "Epoch 101/150\n",
      "37/37 [==============================] - 9s 255ms/step - loss: 0.2890 - accuracy: 0.8691\n",
      "Epoch 102/150\n",
      "37/37 [==============================] - 10s 258ms/step - loss: 0.2823 - accuracy: 0.8723\n",
      "Epoch 103/150\n",
      "37/37 [==============================] - 10s 256ms/step - loss: 0.2944 - accuracy: 0.8648\n",
      "Epoch 104/150\n",
      "37/37 [==============================] - 9s 254ms/step - loss: 0.2699 - accuracy: 0.8779\n",
      "Epoch 105/150\n",
      "37/37 [==============================] - 10s 257ms/step - loss: 0.2762 - accuracy: 0.8742\n",
      "Epoch 106/150\n",
      "37/37 [==============================] - 9s 254ms/step - loss: 0.2754 - accuracy: 0.8738\n",
      "Epoch 107/150\n",
      "37/37 [==============================] - 9s 251ms/step - loss: 0.2658 - accuracy: 0.8798\n",
      "Epoch 108/150\n",
      "37/37 [==============================] - 9s 256ms/step - loss: 0.2763 - accuracy: 0.8735\n",
      "Epoch 109/150\n",
      "37/37 [==============================] - 9s 255ms/step - loss: 0.2750 - accuracy: 0.8748\n",
      "Epoch 110/150\n",
      "37/37 [==============================] - 9s 253ms/step - loss: 0.2774 - accuracy: 0.8761\n",
      "Epoch 111/150\n",
      "37/37 [==============================] - 9s 255ms/step - loss: 0.3334 - accuracy: 0.8464\n",
      "Epoch 112/150\n",
      "37/37 [==============================] - 9s 256ms/step - loss: 0.2950 - accuracy: 0.8681\n",
      "Epoch 113/150\n",
      "37/37 [==============================] - 10s 258ms/step - loss: 0.2869 - accuracy: 0.8701\n",
      "Epoch 114/150\n",
      "37/37 [==============================] - 9s 253ms/step - loss: 0.2808 - accuracy: 0.8740\n",
      "Epoch 115/150\n",
      "37/37 [==============================] - 10s 258ms/step - loss: 0.2774 - accuracy: 0.8740\n",
      "Epoch 116/150\n",
      "37/37 [==============================] - 9s 261ms/step - loss: 0.3495 - accuracy: 0.8389\n",
      "Epoch 117/150\n",
      "37/37 [==============================] - 9s 256ms/step - loss: 0.3184 - accuracy: 0.8537\n",
      "Epoch 118/150\n",
      "37/37 [==============================] - 10s 259ms/step - loss: 0.2991 - accuracy: 0.8630\n",
      "Epoch 119/150\n",
      "37/37 [==============================] - 9s 256ms/step - loss: 0.3124 - accuracy: 0.8586\n",
      "Epoch 120/150\n",
      "37/37 [==============================] - 10s 259ms/step - loss: 0.2942 - accuracy: 0.8670\n",
      "Epoch 121/150\n",
      "37/37 [==============================] - 9s 254ms/step - loss: 0.2941 - accuracy: 0.8659\n",
      "Epoch 122/150\n",
      "37/37 [==============================] - 9s 256ms/step - loss: 0.2705 - accuracy: 0.8777\n",
      "Epoch 123/150\n",
      "37/37 [==============================] - 9s 255ms/step - loss: 0.2927 - accuracy: 0.8658\n",
      "Epoch 124/150\n",
      "37/37 [==============================] - 9s 255ms/step - loss: 0.2756 - accuracy: 0.8740\n",
      "Epoch 125/150\n",
      "37/37 [==============================] - 10s 258ms/step - loss: 0.2752 - accuracy: 0.8755\n",
      "Epoch 126/150\n",
      "37/37 [==============================] - 10s 258ms/step - loss: 0.2710 - accuracy: 0.8789\n",
      "Epoch 127/150\n",
      "37/37 [==============================] - 9s 254ms/step - loss: 0.2776 - accuracy: 0.8744\n",
      "Epoch 128/150\n",
      "37/37 [==============================] - 9s 256ms/step - loss: 0.2653 - accuracy: 0.8790\n",
      "Epoch 129/150\n",
      "37/37 [==============================] - 9s 255ms/step - loss: 0.2779 - accuracy: 0.8710\n",
      "Epoch 130/150\n",
      "37/37 [==============================] - 10s 257ms/step - loss: 0.2587 - accuracy: 0.8826\n",
      "Epoch 131/150\n",
      "37/37 [==============================] - 9s 255ms/step - loss: 0.2635 - accuracy: 0.8813\n",
      "Epoch 132/150\n",
      "37/37 [==============================] - 9s 254ms/step - loss: 0.2654 - accuracy: 0.8806\n",
      "Epoch 133/150\n",
      "37/37 [==============================] - 10s 256ms/step - loss: 0.2761 - accuracy: 0.8739\n",
      "Epoch 134/150\n",
      "37/37 [==============================] - 10s 256ms/step - loss: 0.2677 - accuracy: 0.8801\n",
      "Epoch 135/150\n",
      "37/37 [==============================] - 9s 253ms/step - loss: 0.2615 - accuracy: 0.8796\n",
      "Epoch 136/150\n",
      "37/37 [==============================] - 9s 255ms/step - loss: 0.2674 - accuracy: 0.8801\n",
      "Epoch 137/150\n",
      "37/37 [==============================] - 9s 255ms/step - loss: 0.2831 - accuracy: 0.8715\n",
      "Epoch 138/150\n",
      "37/37 [==============================] - 9s 256ms/step - loss: 0.2785 - accuracy: 0.8718\n",
      "Epoch 139/150\n",
      "37/37 [==============================] - 10s 258ms/step - loss: 0.2615 - accuracy: 0.8816\n",
      "Epoch 140/150\n",
      "37/37 [==============================] - 9s 256ms/step - loss: 0.2638 - accuracy: 0.8815\n",
      "Epoch 141/150\n",
      "37/37 [==============================] - 9s 255ms/step - loss: 0.2619 - accuracy: 0.8822\n",
      "Epoch 142/150\n",
      "37/37 [==============================] - 9s 253ms/step - loss: 0.2625 - accuracy: 0.8814\n",
      "Epoch 143/150\n",
      "37/37 [==============================] - 9s 256ms/step - loss: 0.2609 - accuracy: 0.8808\n",
      "Epoch 144/150\n",
      "37/37 [==============================] - 9s 254ms/step - loss: 0.2578 - accuracy: 0.8823\n",
      "Epoch 145/150\n",
      "37/37 [==============================] - 9s 256ms/step - loss: 0.2625 - accuracy: 0.8804\n",
      "Epoch 146/150\n",
      "37/37 [==============================] - 9s 254ms/step - loss: 0.2609 - accuracy: 0.8824\n",
      "Epoch 147/150\n",
      "37/37 [==============================] - 9s 255ms/step - loss: 0.2722 - accuracy: 0.8747\n",
      "Epoch 148/150\n",
      "37/37 [==============================] - 9s 253ms/step - loss: 0.2648 - accuracy: 0.8777\n",
      "Epoch 149/150\n",
      "37/37 [==============================] - 9s 255ms/step - loss: 0.2640 - accuracy: 0.8784\n",
      "Epoch 150/150\n",
      "37/37 [==============================] - 10s 257ms/step - loss: 0.2565 - accuracy: 0.8847\n"
     ]
    }
   ],
   "source": [
    "# Define the model and train\n",
    "model.compile(optimizer='adam',\n",
    "              loss=tf.keras.losses.BinaryCrossentropy(),\n",
    "              metrics=['accuracy'])\n",
    "\n",
    "history = model.fit(train_generator, steps_per_epoch=STEPS_PER_EPOCH, epochs=EPOCHS)"
   ]
  },
  {
   "cell_type": "code",
   "execution_count": 45,
   "metadata": {
    "id": "AqagtySHcLPg"
   },
   "outputs": [
    {
     "name": "stdout",
     "output_type": "stream",
     "text": [
      "INFO:tensorflow:Assets written to: models/Unet_inputsize572_initialfilters32_padding_valid_epochs150/assets\n"
     ]
    }
   ],
   "source": [
    "import os\n",
    "# save the model and history of the training (loss, accuracy)\n",
    "model_path = f'models/Unet_inputsize{new_size}_initialfilters{INITIAL_FILTERS}_padding_{PADDING}_epochs{EPOCHS}' #TODO: loss and metric'\n",
    "model.save(model_path)\n"
   ]
  },
  {
   "cell_type": "code",
   "execution_count": 46,
   "metadata": {
    "id": "N2nNTvgHsaBW"
   },
   "outputs": [],
   "source": [
    "np.save(os.path.join(model_path, 'history'), history.history)"
   ]
  },
  {
   "cell_type": "code",
   "execution_count": null,
   "metadata": {},
   "outputs": [],
   "source": []
  }
 ],
 "metadata": {
  "accelerator": "GPU",
  "colab": {
   "collapsed_sections": [],
   "name": "segm_w_on_the_fly_augm.ipynb",
   "provenance": []
  },
  "kernelspec": {
   "display_name": "deepenv",
   "language": "python",
   "name": "deepenv"
  },
  "language_info": {
   "codemirror_mode": {
    "name": "ipython",
    "version": 3
   },
   "file_extension": ".py",
   "mimetype": "text/x-python",
   "name": "python",
   "nbconvert_exporter": "python",
   "pygments_lexer": "ipython3",
   "version": "3.8.5"
  }
 },
 "nbformat": 4,
 "nbformat_minor": 1
}
