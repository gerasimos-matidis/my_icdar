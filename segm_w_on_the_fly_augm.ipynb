{
  "cells": [
    {
      "cell_type": "markdown",
      "metadata": {
        "id": "view-in-github",
        "colab_type": "text"
      },
      "source": [
        "<a href=\"https://colab.research.google.com/github/gerasimos-matidis/my_icdar/blob/main/segm_w_on_the_fly_augm.ipynb\" target=\"_parent\"><img src=\"https://colab.research.google.com/assets/colab-badge.svg\" alt=\"Open In Colab\"/></a>"
      ]
    },
    {
      "cell_type": "markdown",
      "metadata": {
        "id": "KslpdmUtsrRq"
      },
      "source": [
        "# Semantic Segmentation with on the fly Data Augmentation\n"
      ]
    },
    {
      "cell_type": "code",
      "execution_count": null,
      "metadata": {
        "id": "0m3L9i6n-cCC"
      },
      "outputs": [],
      "source": [
        "import matplotlib.pyplot as plt\n",
        "import numpy as np\n",
        "import tensorflow as tf\n",
        "from tensorflow import keras\n",
        "from keras_preprocessing.image import ImageDataGenerator\n",
        "from gm_networks import unet_model\n",
        "from utils import center_crop"
      ]
    },
    {
      "cell_type": "code",
      "execution_count": null,
      "metadata": {
        "id": "4D3hgHsHvHrt"
      },
      "outputs": [],
      "source": [
        "# Load the initial input and output images and expand their dimensions to fit the ImageDataGenerator \n",
        "# For inputs: initial_dimensions = (width, height, 3) ---> new_dimensions = (1, width, height, 3)\n",
        "# For outputs: initial_dimensions = (width, height) ---> new_dimensions = (1, width, height, 1)\n",
        "x_initial_train = plt.imread('train/101-INPUT.jpg')\n",
        "y_initial_train = plt.imread('train/101-OUTPUT-GT.png')\n",
        "x_initial_train = np.expand_dims(x_initial_train, 0) \n",
        "y_initial_train = np.expand_dims(y_initial_train, (0, -1)) "
      ]
    },
    {
      "cell_type": "code",
      "execution_count": null,
      "metadata": {
        "id": "b62OZ7Rx9Un7"
      },
      "outputs": [],
      "source": [
        "# Model/training hyperparameters\n",
        "INPUT_SHAPE = (512, 512, 3)\n",
        "INITIAL_FILTERS = 32\n",
        "PADDING = 'same'\n",
        "\n",
        "TRAIN_IMAGES_NUMBER = 500\n",
        "\n",
        "BATCH_SIZE = 8\n",
        "EPOCHS = 800\n",
        "steps_per_epoch = TRAIN_IMAGES_NUMBER // BATCH_SIZE# Define the new size to create images of size (NEW_SIZE, NEW_SIZE), as well as define the number of train and validation images to be created"
      ]
    },
    {
      "cell_type": "code",
      "execution_count": null,
      "metadata": {
        "id": "hMDjyp6H8GG1"
      },
      "outputs": [],
      "source": [
        "model = unet_model(input_shape=INPUT_SHAPE, initial_filters=INITIAL_FILTERS, padding=PADDING)\n"
      ]
    },
    {
      "cell_type": "code",
      "execution_count": null,
      "metadata": {
        "id": "edooZbHm8GG2"
      },
      "outputs": [],
      "source": [
        "print(model.output_shape[1:3])\n",
        "print(y_initial_train.shape)\n",
        "# TODO: center_crop the y_initial_train tensor "
      ]
    },
    {
      "cell_type": "code",
      "execution_count": null,
      "metadata": {
        "id": "CWcEEEXG5d8K"
      },
      "outputs": [],
      "source": [
        "new_size = INPUT_SHAPE[0]\n",
        "\n",
        "# Concatenate the respective inputs and outputs to ensure that they will undergo the same crop\n",
        "concatenated_images_train = np.concatenate([x_initial_train, y_initial_train], -1)\n",
        "\n",
        "# Initialize the tensors for the training batches\n",
        "croped_images_train = np.zeros([TRAIN_IMAGES_NUMBER, new_size, new_size, 4])\n",
        "\n",
        "# Random croping\n",
        "for i in range(TRAIN_IMAGES_NUMBER):\n",
        "    \n",
        "    t = tf.image.random_crop(concatenated_images_train, size=[1, new_size, new_size, 4])\n",
        "    croped_images_train[i] = t[0]\n",
        "\n",
        "# Separate the inputs from the outputs to create the final batches\n",
        "x_train = croped_images_train[:, :, :, :3]\n",
        "y_train = np.expand_dims(croped_images_train[:, :, :, 3], -1)\n",
        "\n",
        "if PADDING == 'valid':\n",
        "    y_train = center_crop(y_train, model.output_shape[1:3])\n"
      ]
    },
    {
      "cell_type": "code",
      "execution_count": null,
      "metadata": {
        "id": "d6AGgFmm8GG5"
      },
      "outputs": [],
      "source": [
        "print(x_train.shape)"
      ]
    },
    {
      "cell_type": "code",
      "execution_count": null,
      "metadata": {
        "id": "uD8KTAOSDZXE"
      },
      "outputs": [],
      "source": [
        "# Create dictionaries with the alterations to be used for the data augmentation operations for inputs and outputs\n",
        "\"\"\"\"\n",
        "NOTE: It is important to use exact the same values for the parameters in both dictionaries. \n",
        "The reason why we create 2 dictionaries instead of a common one is because  we want to add the \n",
        "preprocessing function for the output masks (this function sets all the pixel values of the mask to 0 or 1. \n",
        "While the initial ground truth images are binary, after the data augmentation operations, such as rotations and \n",
        "shifts, pixels with intermediate values are appeared due to interpolation)\n",
        "\"\"\"\n",
        "x_datagen_args = dict(\n",
        "    rotation_range=25, \n",
        "    width_shift_range=0.1, \n",
        "    height_shift_range=0.1,\n",
        "    shear_range=0.1,\n",
        "    zoom_range=0.1,\n",
        "    horizontal_flip=True,\n",
        "    vertical_flip=True,\n",
        "    fill_mode='reflect')\n",
        "\n",
        "y_datagen_args = dict(\n",
        "    rotation_range=25, \n",
        "    width_shift_range=0.1, \n",
        "    height_shift_range=0.1,\n",
        "    shear_range=0.1,\n",
        "    zoom_range=0.1,\n",
        "    horizontal_flip=True,\n",
        "    vertical_flip=True,\n",
        "    fill_mode='reflect', \n",
        "    preprocessing_function = lambda x: np.where(x>0, 1, 0).astype(x.dtype))"
      ]
    },
    {
      "cell_type": "code",
      "execution_count": null,
      "metadata": {
        "id": "t9mScpdzDhK2"
      },
      "outputs": [],
      "source": [
        "# Instatiate the generators\n",
        "x_datagen = ImageDataGenerator(**x_datagen_args)\n",
        "y_datagen = ImageDataGenerator(**y_datagen_args)\n",
        "\n",
        "# Setting the same seed number for both generators leads to the same random alterations for both generators\n",
        "seed = 19\n",
        "x_datagen.fit(x_train, augment=True, seed=seed)\n",
        "y_datagen.fit(y_train, augment=True, seed=seed)\n",
        "\n",
        "x_generator_train = x_datagen.flow(x_train, seed=seed, batch_size=BATCH_SIZE)\n",
        "y_generator_train = y_datagen.flow(y_train, seed=seed, batch_size=BATCH_SIZE)\n",
        "\n",
        "train_generator = zip(x_generator_train, y_generator_train)"
      ]
    },
    {
      "cell_type": "code",
      "execution_count": null,
      "metadata": {
        "id": "wwG7zHnrDka3"
      },
      "outputs": [],
      "source": [
        "# Define the model and train\n",
        "model.compile(optimizer='adam',\n",
        "              loss=tf.keras.losses.BinaryCrossentropy(),\n",
        "              metrics=['accuracy'])\n",
        "\n",
        "history = model.fit(train_generator, steps_per_epoch=steps_per_epoch, epochs=EPOCHS)"
      ]
    },
    {
      "cell_type": "code",
      "execution_count": null,
      "metadata": {
        "id": "AqagtySHcLPg"
      },
      "outputs": [],
      "source": [
        "import os\n",
        "# save the model and history of the training (loss, accuracy)\n",
        "model_path = f'models/Unet_inputsize{new_size}_initialfilters{INITIAL_FILTERS}_padding_{PADDING}_epochs{EPOCHS}' #TODO: loss and metric'\n",
        "model.save(model_path)\n"
      ]
    },
    {
      "cell_type": "code",
      "execution_count": null,
      "metadata": {
        "id": "N2nNTvgHsaBW"
      },
      "outputs": [],
      "source": [
        "np.save(os.path.join(model_path, 'history'), history.history)"
      ]
    },
    {
      "cell_type": "code",
      "source": [
        ""
      ],
      "metadata": {
        "id": "UgRHCkbz8NQm"
      },
      "execution_count": null,
      "outputs": []
    }
  ],
  "metadata": {
    "accelerator": "GPU",
    "colab": {
      "collapsed_sections": [],
      "name": "segm_w_on_the_fly_augm.ipynb",
      "provenance": [],
      "include_colab_link": true
    },
    "kernelspec": {
      "display_name": "deepenv",
      "language": "python",
      "name": "deepenv"
    },
    "language_info": {
      "codemirror_mode": {
        "name": "ipython",
        "version": 3
      },
      "file_extension": ".py",
      "mimetype": "text/x-python",
      "name": "python",
      "nbconvert_exporter": "python",
      "pygments_lexer": "ipython3",
      "version": "3.8.5"
    }
  },
  "nbformat": 4,
  "nbformat_minor": 0
}