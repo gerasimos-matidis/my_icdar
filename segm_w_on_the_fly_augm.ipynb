{
  "nbformat": 4,
  "nbformat_minor": 0,
  "metadata": {
    "accelerator": "GPU",
    "colab": {
      "name": "segm_w_on_the_fly_augm.ipynb",
      "provenance": [],
      "collapsed_sections": [],
      "include_colab_link": true
    },
    "kernelspec": {
      "display_name": "Python 3",
      "name": "python3"
    },
    "language_info": {
      "name": "python"
    }
  },
  "cells": [
    {
      "cell_type": "markdown",
      "metadata": {
        "id": "view-in-github",
        "colab_type": "text"
      },
      "source": [
        "<a href=\"https://colab.research.google.com/github/gerasimos-matidis/my_icdar/blob/main/segm_w_on_the_fly_augm.ipynb\" target=\"_parent\"><img src=\"https://colab.research.google.com/assets/colab-badge.svg\" alt=\"Open In Colab\"/></a>"
      ]
    },
    {
      "cell_type": "markdown",
      "metadata": {
        "id": "KslpdmUtsrRq"
      },
      "source": [
        "# Semantic Segmentation with on the fly Data Augmentation\n"
      ]
    },
    {
      "cell_type": "markdown",
      "metadata": {
        "id": "view-in-github"
      },
      "source": [
        "<a href=\"https://colab.research.google.com/github/gerasimos-matidis/my_icdar/blob/main/segm_w_on_the_fly_augm.ipynb\" target=\"_parent\"><img src=\"https://colab.research.google.com/assets/colab-badge.svg\" alt=\"Open In Colab\"/></a>"
      ]
    },
    {
      "cell_type": "code",
      "metadata": {
        "id": "O0XXCeIchGU0"
      },
      "source": [
        "# Mount google drive and move to the project directory\n",
        "from google.colab import drive\n",
        "drive.mount('/content/gdrive')\n",
        "\n",
        "%cd gdrive/MyDrive/my_icdar"
      ],
      "execution_count": null,
      "outputs": []
    },
    {
      "cell_type": "code",
      "metadata": {
        "id": "0m3L9i6n-cCC"
      },
      "source": [
        "import matplotlib.pyplot as plt\n",
        "import numpy as np\n",
        "import tensorflow as tf\n",
        "from tensorflow import keras\n",
        "from keras_preprocessing.image import ImageDataGenerator\n",
        "from gm_networks import unet_model"
      ],
      "execution_count": null,
      "outputs": []
    },
    {
      "cell_type": "code",
      "metadata": {
        "id": "4D3hgHsHvHrt"
      },
      "source": [
        "# Load the initial input and output images and expand their dimensions to fit the ImageDataGenerator \n",
        "# For inputs: initial_dimensions = (width, height, 3) ---> new_dimensions = (1, width, height, 3)\n",
        "# For outputs: initial_dimensions = (width, height) ---> new_dimensions = (1, width, height, 1)\n",
        "\n",
        "x_initial_train = plt.imread('train/101-INPUT.jpg')\n",
        "y_initial_train = plt.imread('train/101-OUTPUT-GT.png')\n",
        "x_initial_train = np.expand_dims(x_initial_train, 0) \n",
        "y_initial_train = np.expand_dims(y_initial_train, (0, -1)) "
      ],
      "execution_count": null,
      "outputs": []
    },
    {
      "cell_type": "code",
      "metadata": {
        "id": "b62OZ7Rx9Un7"
      },
      "source": [
        "# Define the new size to create images of size (NEW_SIZE, NEW_SIZE), as well as define the number of train and validation images to be created\n",
        "NEW_SIZE = 512\n",
        "TRAIN_IMAGES_NUMBER = 300"
      ],
      "execution_count": null,
      "outputs": []
    },
    {
      "cell_type": "code",
      "metadata": {
        "id": "CWcEEEXG5d8K"
      },
      "source": [
        "# Concatenate the respective inputs and outputs to ensure that they will undergo the same crop\n",
        "concatenated_images_train = np.concatenate([x_initial_train, y_initial_train], -1)\n",
        "\n",
        "# Initialize the tensors for the training batches\n",
        "croped_images_train = np.zeros([TRAIN_IMAGES_NUMBER, NEW_SIZE, NEW_SIZE, 4])\n",
        "\n",
        "# Random croping\n",
        "for i in range(TRAIN_IMAGES_NUMBER):\n",
        "    \n",
        "    t = tf.image.random_crop(concatenated_images_train, size=[1, NEW_SIZE, NEW_SIZE, 4])\n",
        "    croped_images_train[i] = t[0]\n",
        "\n",
        "# Separate the inputs from the outputs to create the final batches\n",
        "x_train = croped_images_train[:, :, :, :3]\n",
        "y_train = np.expand_dims(croped_images_train[:, :, :, 3], -1)"
      ],
      "execution_count": null,
      "outputs": []
    },
    {
      "cell_type": "code",
      "metadata": {
        "id": "uD8KTAOSDZXE"
      },
      "source": [
        "# Create dictionaries with the alterations to be used for the data augmentation operations for inputs and outputs\n",
        "\"\"\"\"\n",
        "NOTE: It is important to use exact the same values for both dictionaries (for inputs and outputs). \n",
        "The reason why we create 2 dictionaries instead of a common one is because  we want to add the \n",
        "preprocessing function for the output masks (This function sets all the pixel values of the mask to 0 or 1. \n",
        "While the initial images are binary, after the data augmentation operations, such as rotations and shifts, \n",
        "pixels with intermediate values are created due to interpolation)\n",
        "\"\"\"\n",
        "x_datagen_args = dict(\n",
        "    rotation_range=25, \n",
        "    width_shift_range=0.1, \n",
        "    height_shift_range=0.1,\n",
        "    shear_range=0.1,\n",
        "    zoom_range=0.1,\n",
        "    horizontal_flip=True,\n",
        "    vertical_flip=True,\n",
        "    fill_mode='reflect')\n",
        "\n",
        "y_datagen_args = dict(\n",
        "    rotation_range=25, \n",
        "    width_shift_range=0.1, \n",
        "    height_shift_range=0.1,\n",
        "    shear_range=0.1,\n",
        "    zoom_range=0.1,\n",
        "    horizontal_flip=True,\n",
        "    vertical_flip=True,\n",
        "    fill_mode='reflect', \n",
        "    preprocessing_function = lambda x: np.where(x>0, 1, 0).astype(x.dtype))"
      ],
      "execution_count": null,
      "outputs": []
    },
    {
      "cell_type": "code",
      "metadata": {
        "id": "t9mScpdzDhK2"
      },
      "source": [
        "BATCH_SIZE = 8\n",
        "\n",
        "# Instatiate the generators\n",
        "x_datagen = ImageDataGenerator(**x_datagen_args)\n",
        "y_datagen = ImageDataGenerator(**y_datagen_args)\n",
        "\n",
        "# Setting the same seed number for both generators leads to the same random alterations for both generators\n",
        "seed = 18\n",
        "x_datagen.fit(x_train, augment=True, seed=seed)\n",
        "y_datagen.fit(y_train, augment=True, seed=seed)\n",
        "\n",
        "x_generator_train = x_datagen.flow(x_train, seed=seed, batch_size=BATCH_SIZE)\n",
        "y_generator_train = y_datagen.flow(y_train, seed=seed, batch_size=BATCH_SIZE)\n",
        "\n",
        "train_generator = zip(x_generator_train, y_generator_train)"
      ],
      "execution_count": null,
      "outputs": []
    },
    {
      "cell_type": "code",
      "metadata": {
        "id": "8fF9xLlD7KM4"
      },
      "source": [
        "INITIAL_FILTERS = 32\n",
        "EPOCHS = 100\n",
        "STEPS_PER_EPOCH = TRAIN_IMAGES_NUMBER // BATCH_SIZE"
      ],
      "execution_count": null,
      "outputs": []
    },
    {
      "cell_type": "code",
      "metadata": {
        "id": "wwG7zHnrDka3"
      },
      "source": [
        "# Define the model and train\n",
        "model = unet_model(input_shape=(NEW_SIZE, NEW_SIZE, 3), initial_filters=INITIAL_FILTERS)\n",
        "model.summary()\n",
        "model.compile(optimizer='adam',\n",
        "              loss=tf.keras.losses.SparseCategoricalCrossentropy(from_logits=True),\n",
        "              metrics=['accuracy'])\n",
        "\n",
        "history = model.fit_generator(train_generator, steps_per_epoch=STEPS_PER_EPOCH, epochs=EPOCHS)"
      ],
      "execution_count": null,
      "outputs": []
    },
    {
      "cell_type": "code",
      "metadata": {
        "id": "AqagtySHcLPg"
      },
      "source": [
        "# save the model and history of the training (loss, accuracy)\n",
        "model_path = f'models/Unet_fitgen_inputsize{NEW_SIZE}_initialfilters{INITIAL_FILTERS}_epochs{EPOCHS}_stepsperepoch{STEPS_PER_EPOCH}'\n",
        "model.save(model_path)\n",
        "history_path = f'models/Unet_fitgen_inputsize{NEW_SIZE}_initialfilters{INITIAL_FILTERS}_epochs{EPOCHS}_stepsperepoch{STEPS_PER_EPOCH}_history'\n",
        "np.save('models/', history.history)"
      ],
      "execution_count": null,
      "outputs": []
    }
  ]
}