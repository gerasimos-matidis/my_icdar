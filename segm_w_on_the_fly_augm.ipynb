{
  "nbformat": 4,
  "nbformat_minor": 0,
  "metadata": {
    "colab": {
      "name": "segm_w_on_the_fly_augm.ipynb",
      "provenance": [],
      "collapsed_sections": [],
      "include_colab_link": true
    },
    "kernelspec": {
      "name": "python3",
      "display_name": "Python 3"
    },
    "language_info": {
      "name": "python"
    },
    "accelerator": "GPU"
  },
  "cells": [
    {
      "cell_type": "markdown",
      "metadata": {
        "id": "view-in-github",
        "colab_type": "text"
      },
      "source": [
        "<a href=\"https://colab.research.google.com/github/gerasimos-matidis/my_icdar/blob/main/segm_w_on_the_fly_augm.ipynb\" target=\"_parent\"><img src=\"https://colab.research.google.com/assets/colab-badge.svg\" alt=\"Open In Colab\"/></a>"
      ]
    },
    {
      "cell_type": "markdown",
      "metadata": {
        "id": "KslpdmUtsrRq"
      },
      "source": [
        "# Semantic Segmentation with on the fly Data Augmentation\n"
      ]
    },
    {
      "cell_type": "markdown",
      "metadata": {
        "id": "view-in-github"
      },
      "source": [
        "<a href=\"https://colab.research.google.com/github/gerasimos-matidis/my_icdar/blob/main/segm_w_on_the_fly_augm.ipynb\" target=\"_parent\"><img src=\"https://colab.research.google.com/assets/colab-badge.svg\" alt=\"Open In Colab\"/></a>"
      ]
    },
    {
      "cell_type": "code",
      "metadata": {
        "id": "O0XXCeIchGU0",
        "colab": {
          "base_uri": "https://localhost:8080/"
        },
        "outputId": "89358973-35f5-43ee-e194-6da2a80e75c7"
      },
      "source": [
        "# Mount google drive and move to the project directory\n",
        "from google.colab import drive\n",
        "drive.mount('/content/gdrive')\n",
        "\n",
        "%cd gdrive/MyDrive/my_icdar"
      ],
      "execution_count": 1,
      "outputs": [
        {
          "output_type": "stream",
          "name": "stdout",
          "text": [
            "Drive already mounted at /content/gdrive; to attempt to forcibly remount, call drive.mount(\"/content/gdrive\", force_remount=True).\n",
            "/content/gdrive/MyDrive/my_icdar\n"
          ]
        }
      ]
    },
    {
      "cell_type": "code",
      "metadata": {
        "id": "0m3L9i6n-cCC"
      },
      "source": [
        "import matplotlib.pyplot as plt\n",
        "import numpy as np\n",
        "import tensorflow as tf\n",
        "from tensorflow import keras\n",
        "from keras_preprocessing.image import ImageDataGenerator\n",
        "from gm_networks import unet_model"
      ],
      "execution_count": 2,
      "outputs": []
    },
    {
      "cell_type": "code",
      "metadata": {
        "id": "4D3hgHsHvHrt",
        "colab": {
          "base_uri": "https://localhost:8080/",
          "height": 53
        },
        "outputId": "ba9a110d-b166-4e37-cda1-b96577d9c85d"
      },
      "source": [
        "# Load the initial input and output images for training and validation and expand their dimensions to fit the ImageDataGenerator \n",
        "# For inputs: initial_dimensions = (width, height, 3) ---> new_dimensions = (1, width, height, 3)\n",
        "# For outputs: initial_dimensions = (width, height) ---> new_dimensions = (1, width, height, 1)\n",
        "\n",
        "x_initial_train = plt.imread('train/101-INPUT.jpg')\n",
        "y_initial_train = plt.imread('train/101-OUTPUT-GT.png')\n",
        "x_initial_train = np.expand_dims(x_initial_train, 0) \n",
        "y_initial_train = np.expand_dims(y_initial_train, (0, -1)) \n",
        "\n",
        "\"\"\"\n",
        "x_initial_valid = plt.imread('validation/201-INPUT.jpg')\n",
        "y_initial_valid = plt.imread('validation/201-OUTPUT-GT.png')\n",
        "x_initial_valid = np.expand_dims(x_initial_valid, 0)\n",
        "y_initial_valid = np.expand_dims(y_initial_valid, (0, -1))\n",
        "\"\"\""
      ],
      "execution_count": 3,
      "outputs": [
        {
          "output_type": "execute_result",
          "data": {
            "application/vnd.google.colaboratory.intrinsic+json": {
              "type": "string"
            },
            "text/plain": [
              "\"\\nx_initial_valid = plt.imread('validation/201-INPUT.jpg')\\ny_initial_valid = plt.imread('validation/201-OUTPUT-GT.png')\\nx_initial_valid = np.expand_dims(x_initial_valid, 0)\\ny_initial_valid = np.expand_dims(y_initial_valid, (0, -1))\\n\""
            ]
          },
          "metadata": {},
          "execution_count": 3
        }
      ]
    },
    {
      "cell_type": "code",
      "metadata": {
        "id": "b62OZ7Rx9Un7"
      },
      "source": [
        "# Define the new size to create images of size (NEW_SIZE, NEW_SIZE), as well as define the number of train and validation images to be created\n",
        "NEW_SIZE = 512\n",
        "TRAIN_IMAGES_NUMBER = 450\n",
        "#VALIDATION_IMAGES_NUMBER = 50"
      ],
      "execution_count": 4,
      "outputs": []
    },
    {
      "cell_type": "code",
      "metadata": {
        "id": "CWcEEEXG5d8K",
        "colab": {
          "base_uri": "https://localhost:8080/",
          "height": 35
        },
        "outputId": "9c98a8d1-3cff-49e4-f54b-99dd529532ef"
      },
      "source": [
        "# Concatenate the respective inputs and outputs, in order to ensure that they will undergo the same crop\n",
        "concatenated_images_train = np.concatenate([x_initial_train, y_initial_train], -1)\n",
        "#concatenated_images_valid = np.concatenate([x_initial_valid, y_initial_valid], -1)\n",
        "\n",
        "# Initialize the tensors for the train and validation batches\n",
        "croped_images_train = np.zeros([TRAIN_IMAGES_NUMBER, NEW_SIZE, NEW_SIZE, 4])\n",
        "#croped_images_valid = np.zeros([VALIDATION_IMAGES_NUMBER, NEW_SIZE, NEW_SIZE, 4])\n",
        "\n",
        "# Random croping\n",
        "for i in range(TRAIN_IMAGES_NUMBER):\n",
        "    \n",
        "    t = tf.image.random_crop(concatenated_images_train, size=[1, NEW_SIZE, NEW_SIZE, 4])\n",
        "    croped_images_train[i] = t[0]\n",
        "\"\"\"\n",
        "for i in range(VALIDATION_IMAGES_NUMBER):\n",
        "    \n",
        "    v = tf.image.random_crop(concatenated_images_valid, size=[1, NEW_SIZE, NEW_SIZE, 4])\n",
        "    croped_images_valid[i] = v[0]\n",
        "\"\"\"\n",
        "# Separate the inputs from the outputs to create the final batches\n",
        "x_train = croped_images_train[:, :, :, :3]\n",
        "y_train = np.expand_dims(croped_images_train[:, :, :, 3], -1)\n",
        "\n",
        "\"\"\"\n",
        "x_valid = croped_images_valid[:, :, :, :3]\n",
        "y_valid = np.expand_dims(croped_images_valid[:, :, :, 3], -1)\n",
        "\"\"\""
      ],
      "execution_count": 5,
      "outputs": [
        {
          "output_type": "execute_result",
          "data": {
            "application/vnd.google.colaboratory.intrinsic+json": {
              "type": "string"
            },
            "text/plain": [
              "'\\nx_valid = croped_images_valid[:, :, :, :3]\\ny_valid = np.expand_dims(croped_images_valid[:, :, :, 3], -1)\\n'"
            ]
          },
          "metadata": {},
          "execution_count": 5
        }
      ]
    },
    {
      "cell_type": "code",
      "metadata": {
        "id": "uD8KTAOSDZXE"
      },
      "source": [
        "# Create dictionaries with the alterations to be used for the data augmentation operations for inputs and outputs\n",
        "\"\"\"\"\n",
        "NOTE: It is important to use exact the same values for both dictionaries (for inputs and outputs). \n",
        "The reason why we create 2 dictionaries instead of a common one is because  we want to add the \n",
        "preprocessing function for the output masks (This function sets all the pixel values of the mask to 0 or 1. \n",
        "While the initial images are binary, after the data augmentation operations, such as rotations and shifts, \n",
        "pixels with intermediate values are created due to interpolation)\n",
        "\"\"\"\n",
        "x_datagen_args = dict(\n",
        "    rotation_range=25, \n",
        "    width_shift_range=0.1, \n",
        "    height_shift_range=0.1,\n",
        "    shear_range=0.1,\n",
        "    zoom_range=0.1,\n",
        "    horizontal_flip=True,\n",
        "    vertical_flip=True,\n",
        "    fill_mode='reflect')\n",
        "\n",
        "y_datagen_args = dict(\n",
        "    rotation_range=25, \n",
        "    width_shift_range=0.1, \n",
        "    height_shift_range=0.1,\n",
        "    shear_range=0.1,\n",
        "    zoom_range=0.1,\n",
        "    horizontal_flip=True,\n",
        "    vertical_flip=True,\n",
        "    fill_mode='reflect', \n",
        "    preprocessing_function = lambda x: np.where(x>0, 1, 0).astype(x.dtype))"
      ],
      "execution_count": 6,
      "outputs": []
    },
    {
      "cell_type": "code",
      "metadata": {
        "id": "t9mScpdzDhK2"
      },
      "source": [
        "BATCH_SIZE = 8\n",
        "x_datagen = ImageDataGenerator(**x_datagen_args)\n",
        "y_datagen = ImageDataGenerator(**y_datagen_args)\n",
        "\n",
        "seed = 17\n",
        "x_datagen.fit(x_train, augment=True, seed=seed)\n",
        "y_datagen.fit(y_train, augment=True, seed=seed)\n",
        "\n",
        "x_generator_train = x_datagen.flow(x_train, seed=seed, batch_size=BATCH_SIZE)\n",
        "#x_generator_valid = x_datagen.flow(x_valid, seed=seed, batch_size=BATCH_SIZE)\n",
        "y_generator_train = y_datagen.flow(y_train, seed=seed, batch_size=BATCH_SIZE)\n",
        "#y_generator_valid = y_datagen.flow(y_valid, seed=seed, batch_size=BATCH_SIZE)\n",
        "\n",
        "train_generator = zip(x_generator_train, y_generator_train)\n",
        "#valid_generator = zip(x_generator_valid, y_generator_valid)"
      ],
      "execution_count": 7,
      "outputs": []
    },
    {
      "cell_type": "code",
      "metadata": {
        "id": "wwG7zHnrDka3",
        "colab": {
          "base_uri": "https://localhost:8080/"
        },
        "outputId": "2085a2b6-1790-43be-dbb4-505ceb8bd53a"
      },
      "source": [
        "INITIAL_FILTERS = 32\n",
        "EPOCHS = 50\n",
        "STEPS_PER_EPOCH = TRAIN_IMAGES_NUMBER // BATCH_SIZE\n",
        "\n",
        "model = unet_model(input_shape=(NEW_SIZE, NEW_SIZE, 3), initial_filters=INITIAL_FILTERS)\n",
        "model.summary()\n",
        "model.compile(optimizer='adam',\n",
        "              loss=tf.keras.losses.SparseCategoricalCrossentropy(from_logits=True),\n",
        "              metrics=['accuracy'])\n",
        "\n",
        "history = model.fit(train_generator, steps_per_epoch=STEPS_PER_EPOCH, epochs=EPOCHS)"
      ],
      "execution_count": null,
      "outputs": [
        {
          "output_type": "stream",
          "name": "stdout",
          "text": [
            "Model: \"model\"\n",
            "__________________________________________________________________________________________________\n",
            " Layer (type)                   Output Shape         Param #     Connected to                     \n",
            "==================================================================================================\n",
            " input_1 (InputLayer)           [(None, 512, 512, 3  0           []                               \n",
            "                                )]                                                                \n",
            "                                                                                                  \n",
            " conv2d (Conv2D)                (None, 512, 512, 32  896         ['input_1[0][0]']                \n",
            "                                )                                                                 \n",
            "                                                                                                  \n",
            " batch_normalization (BatchNorm  (None, 512, 512, 32  128        ['conv2d[0][0]']                 \n",
            " alization)                     )                                                                 \n",
            "                                                                                                  \n",
            " activation (Activation)        (None, 512, 512, 32  0           ['batch_normalization[0][0]']    \n",
            "                                )                                                                 \n",
            "                                                                                                  \n",
            " conv2d_1 (Conv2D)              (None, 512, 512, 32  9248        ['activation[0][0]']             \n",
            "                                )                                                                 \n",
            "                                                                                                  \n",
            " batch_normalization_1 (BatchNo  (None, 512, 512, 32  128        ['conv2d_1[0][0]']               \n",
            " rmalization)                   )                                                                 \n",
            "                                                                                                  \n",
            " activation_1 (Activation)      (None, 512, 512, 32  0           ['batch_normalization_1[0][0]']  \n",
            "                                )                                                                 \n",
            "                                                                                                  \n",
            " max_pooling2d (MaxPooling2D)   (None, 256, 256, 32  0           ['activation_1[0][0]']           \n",
            "                                )                                                                 \n",
            "                                                                                                  \n",
            " conv2d_2 (Conv2D)              (None, 256, 256, 64  18496       ['max_pooling2d[0][0]']          \n",
            "                                )                                                                 \n",
            "                                                                                                  \n",
            " batch_normalization_2 (BatchNo  (None, 256, 256, 64  256        ['conv2d_2[0][0]']               \n",
            " rmalization)                   )                                                                 \n",
            "                                                                                                  \n",
            " activation_2 (Activation)      (None, 256, 256, 64  0           ['batch_normalization_2[0][0]']  \n",
            "                                )                                                                 \n",
            "                                                                                                  \n",
            " conv2d_3 (Conv2D)              (None, 256, 256, 64  36928       ['activation_2[0][0]']           \n",
            "                                )                                                                 \n",
            "                                                                                                  \n",
            " batch_normalization_3 (BatchNo  (None, 256, 256, 64  256        ['conv2d_3[0][0]']               \n",
            " rmalization)                   )                                                                 \n",
            "                                                                                                  \n",
            " activation_3 (Activation)      (None, 256, 256, 64  0           ['batch_normalization_3[0][0]']  \n",
            "                                )                                                                 \n",
            "                                                                                                  \n",
            " max_pooling2d_1 (MaxPooling2D)  (None, 128, 128, 64  0          ['activation_3[0][0]']           \n",
            "                                )                                                                 \n",
            "                                                                                                  \n",
            " conv2d_4 (Conv2D)              (None, 128, 128, 12  73856       ['max_pooling2d_1[0][0]']        \n",
            "                                8)                                                                \n",
            "                                                                                                  \n",
            " batch_normalization_4 (BatchNo  (None, 128, 128, 12  512        ['conv2d_4[0][0]']               \n",
            " rmalization)                   8)                                                                \n",
            "                                                                                                  \n",
            " activation_4 (Activation)      (None, 128, 128, 12  0           ['batch_normalization_4[0][0]']  \n",
            "                                8)                                                                \n",
            "                                                                                                  \n",
            " conv2d_5 (Conv2D)              (None, 128, 128, 12  147584      ['activation_4[0][0]']           \n",
            "                                8)                                                                \n",
            "                                                                                                  \n",
            " batch_normalization_5 (BatchNo  (None, 128, 128, 12  512        ['conv2d_5[0][0]']               \n",
            " rmalization)                   8)                                                                \n",
            "                                                                                                  \n",
            " activation_5 (Activation)      (None, 128, 128, 12  0           ['batch_normalization_5[0][0]']  \n",
            "                                8)                                                                \n",
            "                                                                                                  \n",
            " dropout (Dropout)              (None, 128, 128, 12  0           ['activation_5[0][0]']           \n",
            "                                8)                                                                \n",
            "                                                                                                  \n",
            " max_pooling2d_2 (MaxPooling2D)  (None, 64, 64, 128)  0          ['dropout[0][0]']                \n",
            "                                                                                                  \n",
            " conv2d_6 (Conv2D)              (None, 64, 64, 256)  295168      ['max_pooling2d_2[0][0]']        \n",
            "                                                                                                  \n",
            " batch_normalization_6 (BatchNo  (None, 64, 64, 256)  1024       ['conv2d_6[0][0]']               \n",
            " rmalization)                                                                                     \n",
            "                                                                                                  \n",
            " activation_6 (Activation)      (None, 64, 64, 256)  0           ['batch_normalization_6[0][0]']  \n",
            "                                                                                                  \n",
            " conv2d_7 (Conv2D)              (None, 64, 64, 256)  590080      ['activation_6[0][0]']           \n",
            "                                                                                                  \n",
            " batch_normalization_7 (BatchNo  (None, 64, 64, 256)  1024       ['conv2d_7[0][0]']               \n",
            " rmalization)                                                                                     \n",
            "                                                                                                  \n",
            " activation_7 (Activation)      (None, 64, 64, 256)  0           ['batch_normalization_7[0][0]']  \n",
            "                                                                                                  \n",
            " dropout_1 (Dropout)            (None, 64, 64, 256)  0           ['activation_7[0][0]']           \n",
            "                                                                                                  \n",
            " max_pooling2d_3 (MaxPooling2D)  (None, 32, 32, 256)  0          ['dropout_1[0][0]']              \n",
            "                                                                                                  \n",
            " conv2d_8 (Conv2D)              (None, 32, 32, 512)  1180160     ['max_pooling2d_3[0][0]']        \n",
            "                                                                                                  \n",
            " batch_normalization_8 (BatchNo  (None, 32, 32, 512)  2048       ['conv2d_8[0][0]']               \n",
            " rmalization)                                                                                     \n",
            "                                                                                                  \n",
            " activation_8 (Activation)      (None, 32, 32, 512)  0           ['batch_normalization_8[0][0]']  \n",
            "                                                                                                  \n",
            " conv2d_9 (Conv2D)              (None, 32, 32, 512)  2359808     ['activation_8[0][0]']           \n",
            "                                                                                                  \n",
            " batch_normalization_9 (BatchNo  (None, 32, 32, 512)  2048       ['conv2d_9[0][0]']               \n",
            " rmalization)                                                                                     \n",
            "                                                                                                  \n",
            " activation_9 (Activation)      (None, 32, 32, 512)  0           ['batch_normalization_9[0][0]']  \n",
            "                                                                                                  \n",
            " dropout_2 (Dropout)            (None, 32, 32, 512)  0           ['activation_9[0][0]']           \n",
            "                                                                                                  \n",
            " conv2d_transpose (Conv2DTransp  (None, 64, 64, 256)  1179904    ['dropout_2[0][0]']              \n",
            " ose)                                                                                             \n",
            "                                                                                                  \n",
            " concatenate (Concatenate)      (None, 64, 64, 512)  0           ['conv2d_transpose[0][0]',       \n",
            "                                                                  'dropout_1[0][0]']              \n",
            "                                                                                                  \n",
            " conv2d_10 (Conv2D)             (None, 64, 64, 256)  1179904     ['concatenate[0][0]']            \n",
            "                                                                                                  \n",
            " batch_normalization_10 (BatchN  (None, 64, 64, 256)  1024       ['conv2d_10[0][0]']              \n",
            " ormalization)                                                                                    \n",
            "                                                                                                  \n",
            " activation_10 (Activation)     (None, 64, 64, 256)  0           ['batch_normalization_10[0][0]'] \n",
            "                                                                                                  \n",
            " conv2d_11 (Conv2D)             (None, 64, 64, 256)  590080      ['activation_10[0][0]']          \n",
            "                                                                                                  \n",
            " batch_normalization_11 (BatchN  (None, 64, 64, 256)  1024       ['conv2d_11[0][0]']              \n",
            " ormalization)                                                                                    \n",
            "                                                                                                  \n",
            " activation_11 (Activation)     (None, 64, 64, 256)  0           ['batch_normalization_11[0][0]'] \n",
            "                                                                                                  \n",
            " conv2d_transpose_1 (Conv2DTran  (None, 128, 128, 12  295040     ['activation_11[0][0]']          \n",
            " spose)                         8)                                                                \n",
            "                                                                                                  \n",
            " concatenate_1 (Concatenate)    (None, 128, 128, 25  0           ['conv2d_transpose_1[0][0]',     \n",
            "                                6)                                'dropout[0][0]']                \n",
            "                                                                                                  \n",
            " conv2d_12 (Conv2D)             (None, 128, 128, 12  295040      ['concatenate_1[0][0]']          \n",
            "                                8)                                                                \n",
            "                                                                                                  \n",
            " batch_normalization_12 (BatchN  (None, 128, 128, 12  512        ['conv2d_12[0][0]']              \n",
            " ormalization)                  8)                                                                \n",
            "                                                                                                  \n",
            " activation_12 (Activation)     (None, 128, 128, 12  0           ['batch_normalization_12[0][0]'] \n",
            "                                8)                                                                \n",
            "                                                                                                  \n",
            " conv2d_13 (Conv2D)             (None, 128, 128, 12  147584      ['activation_12[0][0]']          \n",
            "                                8)                                                                \n",
            "                                                                                                  \n",
            " batch_normalization_13 (BatchN  (None, 128, 128, 12  512        ['conv2d_13[0][0]']              \n",
            " ormalization)                  8)                                                                \n",
            "                                                                                                  \n",
            " activation_13 (Activation)     (None, 128, 128, 12  0           ['batch_normalization_13[0][0]'] \n",
            "                                8)                                                                \n",
            "                                                                                                  \n",
            " conv2d_transpose_2 (Conv2DTran  (None, 256, 256, 64  73792      ['activation_13[0][0]']          \n",
            " spose)                         )                                                                 \n",
            "                                                                                                  \n",
            " concatenate_2 (Concatenate)    (None, 256, 256, 12  0           ['conv2d_transpose_2[0][0]',     \n",
            "                                8)                                'activation_3[0][0]']           \n",
            "                                                                                                  \n",
            " conv2d_14 (Conv2D)             (None, 256, 256, 64  73792       ['concatenate_2[0][0]']          \n",
            "                                )                                                                 \n",
            "                                                                                                  \n",
            " batch_normalization_14 (BatchN  (None, 256, 256, 64  256        ['conv2d_14[0][0]']              \n",
            " ormalization)                  )                                                                 \n",
            "                                                                                                  \n",
            " activation_14 (Activation)     (None, 256, 256, 64  0           ['batch_normalization_14[0][0]'] \n",
            "                                )                                                                 \n",
            "                                                                                                  \n",
            " conv2d_15 (Conv2D)             (None, 256, 256, 64  36928       ['activation_14[0][0]']          \n",
            "                                )                                                                 \n",
            "                                                                                                  \n",
            " batch_normalization_15 (BatchN  (None, 256, 256, 64  256        ['conv2d_15[0][0]']              \n",
            " ormalization)                  )                                                                 \n",
            "                                                                                                  \n",
            " activation_15 (Activation)     (None, 256, 256, 64  0           ['batch_normalization_15[0][0]'] \n",
            "                                )                                                                 \n",
            "                                                                                                  \n",
            " conv2d_transpose_3 (Conv2DTran  (None, 512, 512, 32  18464      ['activation_15[0][0]']          \n",
            " spose)                         )                                                                 \n",
            "                                                                                                  \n",
            " concatenate_3 (Concatenate)    (None, 512, 512, 64  0           ['conv2d_transpose_3[0][0]',     \n",
            "                                )                                 'activation_1[0][0]']           \n",
            "                                                                                                  \n",
            " conv2d_16 (Conv2D)             (None, 512, 512, 32  18464       ['concatenate_3[0][0]']          \n",
            "                                )                                                                 \n",
            "                                                                                                  \n",
            " batch_normalization_16 (BatchN  (None, 512, 512, 32  128        ['conv2d_16[0][0]']              \n",
            " ormalization)                  )                                                                 \n",
            "                                                                                                  \n",
            " activation_16 (Activation)     (None, 512, 512, 32  0           ['batch_normalization_16[0][0]'] \n",
            "                                )                                                                 \n",
            "                                                                                                  \n",
            " conv2d_17 (Conv2D)             (None, 512, 512, 32  9248        ['activation_16[0][0]']          \n",
            "                                )                                                                 \n",
            "                                                                                                  \n",
            " batch_normalization_17 (BatchN  (None, 512, 512, 32  128        ['conv2d_17[0][0]']              \n",
            " ormalization)                  )                                                                 \n",
            "                                                                                                  \n",
            " activation_17 (Activation)     (None, 512, 512, 32  0           ['batch_normalization_17[0][0]'] \n",
            "                                )                                                                 \n",
            "                                                                                                  \n",
            " conv2d_18 (Conv2D)             (None, 512, 512, 2)  66          ['activation_17[0][0]']          \n",
            "                                                                                                  \n",
            "==================================================================================================\n",
            "Total params: 8,642,306\n",
            "Trainable params: 8,636,418\n",
            "Non-trainable params: 5,888\n",
            "__________________________________________________________________________________________________\n",
            "Epoch 1/50\n",
            "56/56 [==============================] - 112s 2s/step - loss: 0.5322 - accuracy: 0.4232\n",
            "Epoch 2/50\n",
            "56/56 [==============================] - 101s 2s/step - loss: 0.4371 - accuracy: 0.4126\n",
            "Epoch 3/50\n",
            "56/56 [==============================] - 95s 2s/step - loss: 0.3684 - accuracy: 0.4203\n",
            "Epoch 4/50\n",
            "56/56 [==============================] - 95s 2s/step - loss: 0.2942 - accuracy: 0.4255\n",
            "Epoch 5/50\n",
            "56/56 [==============================] - 95s 2s/step - loss: 0.2714 - accuracy: 0.4465\n",
            "Epoch 6/50\n",
            "56/56 [==============================] - 95s 2s/step - loss: 0.2944 - accuracy: 0.4271\n",
            "Epoch 7/50\n",
            "26/56 [============>.................] - ETA: 50s - loss: 0.2365 - accuracy: 0.4269"
          ]
        }
      ]
    },
    {
      "cell_type": "code",
      "metadata": {
        "id": "AqagtySHcLPg"
      },
      "source": [
        "model_path = f'models/Unet_inputsize_{NEW_SIZE}_epochs{EPOCHS}_stepsperepoch{STEPS_PER_EPOCH}}'\n",
        "model.save(model_path)"
      ],
      "execution_count": null,
      "outputs": []
    },
    {
      "cell_type": "code",
      "metadata": {
        "id": "Vp5mxShYuEPQ"
      },
      "source": [
        "np.save('models/history.npy', history.history)"
      ],
      "execution_count": null,
      "outputs": []
    }
  ]
}