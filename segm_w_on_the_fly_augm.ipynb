{
 "cells": [
  {
   "cell_type": "markdown",
   "metadata": {
    "id": "KslpdmUtsrRq"
   },
   "source": [
    "# Semantic Segmentation with on-the-fly Data Augmentation"
   ]
  },
  {
   "cell_type": "code",
   "execution_count": null,
   "metadata": {
    "id": "0m3L9i6n-cCC"
   },
   "outputs": [],
   "source": [
    "import matplotlib.pyplot as plt\n",
    "import numpy as np\n",
    "import tensorflow as tf\n",
    "from tensorflow import keras\n",
    "from keras_preprocessing.image import ImageDataGenerator\n",
    "import os\n",
    "from gm_networks import unet_model\n",
    "from utils import center_crop, normalize_data, create_dataset_from_one_image"
   ]
  },
  {
   "cell_type": "code",
   "execution_count": null,
   "metadata": {
    "id": "4D3hgHsHvHrt"
   },
   "outputs": [],
   "source": [
    "# Load the initial input/output images. Normalize the input images to [0, 1] \n",
    "x_initial_train = normalize_data(plt.imread('train/101-INPUT.jpg'))\n",
    "y_initial_train = plt.imread('train/101-OUTPUT-GT.png')\n",
    "x_initial_train = center_crop(x_initial_train, (2560, 2560))\n",
    "y_initial_train = center_crop(y_initial_train, (2560, 2560))"
   ]
  },
  {
   "cell_type": "code",
   "execution_count": null,
   "metadata": {
    "id": "b62OZ7Rx9Un7"
   },
   "outputs": [],
   "source": [
    "# Model/training hyperparameters\n",
    "INPUT_SHAPE = (256, 256, 3)\n",
    "INITIAL_FILTERS = 32\n",
    "BATCH_SIZE = 4\n",
    "EPOCHS = 200"
   ]
  },
  {
   "cell_type": "code",
   "execution_count": null,
   "metadata": {
    "id": "hMDjyp6H8GG1"
   },
   "outputs": [],
   "source": [
    "model = unet_model(input_shape=INPUT_SHAPE, initial_filters=INITIAL_FILTERS)"
   ]
  },
  {
   "cell_type": "code",
   "execution_count": null,
   "metadata": {},
   "outputs": [],
   "source": [
    "# Create a dataset with independent patches\n",
    "MODE = 'independent_patches'\n",
    "x_train, y_train = create_dataset_from_one_image(x_initial_train, y_initial_train, INPUT_SHAPE[0], mode=MODE)"
   ]
  },
  {
   "cell_type": "code",
   "execution_count": null,
   "metadata": {},
   "outputs": [],
   "source": [
    "# Create a dataset with overlapped patches\n",
    "MODE = 'overlapped_patches'\n",
    "x_train, y_train = create_dataset_from_one_image(x_initial_train, y_initial_train, INPUT_SHAPE[0], mode=MODE, patches_step=256)"
   ]
  },
  {
   "cell_type": "code",
   "execution_count": null,
   "metadata": {},
   "outputs": [],
   "source": [
    "# Create a dataset with random patches\n",
    "MODE = 'random_patches'\n",
    "x_train, y_train = create_dataset_from_one_image(x_initial_train, y_initial_train, INPUT_SHAPE[0], mode=MODE, new_images_number=81)"
   ]
  },
  {
   "cell_type": "code",
   "execution_count": null,
   "metadata": {},
   "outputs": [],
   "source": [
    "print(x_train.shape)"
   ]
  },
  {
   "cell_type": "code",
   "execution_count": null,
   "metadata": {
    "id": "uD8KTAOSDZXE"
   },
   "outputs": [],
   "source": [
    "# Create dictionaries with the alterations to be used for the data augmentation operations for inputs and outputs\n",
    "\"\"\"\"\n",
    "NOTE: It is important to use exact the same values for the parameters in both dictionaries. \n",
    "The reason why we create 2 dictionaries instead of a common one is because  we want to add the \n",
    "preprocessing function for the output masks (this function sets all the pixel values of the mask to 0 or 1. \n",
    "While the initial ground truth images are binary, after the data augmentation operations, such as rotations and \n",
    "shifts, pixels with intermediate values are appeared due to interpolation)\n",
    "\"\"\"\n",
    "x_datagen_args = dict(\n",
    "    rotation_range=25, \n",
    "    width_shift_range=0.1, \n",
    "    height_shift_range=0.1,\n",
    "    shear_range=0.1,\n",
    "    zoom_range=0.1,\n",
    "    horizontal_flip=True,\n",
    "    vertical_flip=True,\n",
    "    fill_mode='reflect') \n",
    "\n",
    "# TODO: Post a question in StackOverflow to check why nan values are created, when I use the 'normalize_data' \n",
    "# function (from utils.py) as a preprocessing_function in x_datagen_args\n",
    "\n",
    "y_datagen_args = x_datagen_args.copy()\n",
    "y_datagen_args['preprocessing_function'] = lambda x: np.where(x>0, 1, 0).astype(x.dtype)"
   ]
  },
  {
   "cell_type": "code",
   "execution_count": null,
   "metadata": {
    "id": "t9mScpdzDhK2"
   },
   "outputs": [],
   "source": [
    "# Instatiate the generators\n",
    "x_datagen = ImageDataGenerator(**x_datagen_args)\n",
    "y_datagen = ImageDataGenerator(**y_datagen_args)\n",
    "\n",
    "# Setting the same seed number for both generators leads to the same random alterations for both generators\n",
    "seed = 19\n",
    "x_datagen.fit(x_train, augment=True, seed=seed)\n",
    "y_datagen.fit(y_train, augment=True, seed=seed)\n",
    "\n",
    "x_generator_train = x_datagen.flow(x_train, seed=seed, batch_size=BATCH_SIZE)\n",
    "y_generator_train = y_datagen.flow(y_train, seed=seed, batch_size=BATCH_SIZE)\n",
    "\n",
    "train_generator = zip(x_generator_train, y_generator_train)"
   ]
  },
  {
   "cell_type": "code",
   "execution_count": null,
   "metadata": {
    "id": "wwG7zHnrDka3"
   },
   "outputs": [],
   "source": [
    "training_images_number = x_train.shape[0]\n",
    "steps_per_epoch = training_images_number // BATCH_SIZE\n",
    "\n",
    "# Define the model and train\n",
    "model.compile(optimizer=tf.keras.optimizers.Adam(),\n",
    "              loss='binary_crossentropy',\n",
    "              metrics=['accuracy'])\n",
    "\n",
    "history = model.fit(train_generator, steps_per_epoch=steps_per_epoch, epochs=EPOCHS)"
   ]
  },
  {
   "cell_type": "code",
   "execution_count": null,
   "metadata": {
    "id": "AqagtySHcLPg"
   },
   "outputs": [],
   "source": [
    "# save the model and history of the training (loss, accuracy)\n",
    "model_path = f'trained_models/cropped_001/unet_inputsize{INPUT_SHAPE[0]}_initialfilters{INITIAL_FILTERS}_{MODE}_initialimagesnumber{x_train.shape[0]}_optimizerAdam_lr{\"{:0.4f}\".format(model.optimizer.lr.value().numpy())}_epochs{EPOCHS}' #TODO: loss and metric'\n",
    "model.save(model_path)"
   ]
  },
  {
   "cell_type": "code",
   "execution_count": null,
   "metadata": {
    "id": "N2nNTvgHsaBW"
   },
   "outputs": [],
   "source": [
    "np.save(os.path.join(model_path, 'history'), history.history)"
   ]
  },
  {
   "cell_type": "code",
   "execution_count": null,
   "metadata": {},
   "outputs": [],
   "source": [
    "type(model.optimizer.lr.value().numpy())"
   ]
  },
  {
   "cell_type": "code",
   "execution_count": null,
   "metadata": {},
   "outputs": [],
   "source": [
    "\"{:0.5f}\".format(model.optimizer.lr.value().numpy())"
   ]
  },
  {
   "cell_type": "code",
   "execution_count": null,
   "metadata": {},
   "outputs": [],
   "source": []
  }
 ],
 "metadata": {
  "accelerator": "GPU",
  "colab": {
   "collapsed_sections": [],
   "include_colab_link": true,
   "name": "segm_w_on_the_fly_augm.ipynb",
   "provenance": []
  },
  "kernelspec": {
   "display_name": "deepenv",
   "language": "python",
   "name": "deepenv"
  },
  "language_info": {
   "codemirror_mode": {
    "name": "ipython",
    "version": 3
   },
   "file_extension": ".py",
   "mimetype": "text/x-python",
   "name": "python",
   "nbconvert_exporter": "python",
   "pygments_lexer": "ipython3",
   "version": "3.8.5"
  }
 },
 "nbformat": 4,
 "nbformat_minor": 1
}
