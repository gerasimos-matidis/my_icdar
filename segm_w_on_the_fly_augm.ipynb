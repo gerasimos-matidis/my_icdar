{
  "nbformat": 4,
  "nbformat_minor": 0,
  "metadata": {
    "colab": {
      "name": "segm_w_on_the_fly_augm.ipynb",
      "provenance": [],
      "collapsed_sections": [],
      "authorship_tag": "ABX9TyOBN/HaPjY7vuQxRD+L5oT8",
      "include_colab_link": true
    },
    "kernelspec": {
      "name": "python3",
      "display_name": "Python 3"
    },
    "language_info": {
      "name": "python"
    },
    "accelerator": "GPU"
  },
  "cells": [
    {
      "cell_type": "markdown",
      "metadata": {
        "id": "view-in-github",
        "colab_type": "text"
      },
      "source": [
        "<a href=\"https://colab.research.google.com/github/gerasimos-matidis/my_icdar/blob/main/segm_w_on_the_fly_augm.ipynb\" target=\"_parent\"><img src=\"https://colab.research.google.com/assets/colab-badge.svg\" alt=\"Open In Colab\"/></a>"
      ]
    },
    {
      "cell_type": "code",
      "metadata": {
        "id": "O0XXCeIchGU0",
        "outputId": "57ab84be-c775-4388-a236-a8a21927903e",
        "colab": {
          "base_uri": "https://localhost:8080/"
        }
      },
      "source": [
        "from google.colab import drive\n",
        "drive.mount('/content/gdrive')"
      ],
      "execution_count": 1,
      "outputs": [
        {
          "output_type": "stream",
          "name": "stdout",
          "text": [
            "Mounted at /content/gdrive\n"
          ]
        }
      ]
    },
    {
      "cell_type": "code",
      "metadata": {
        "id": "WO1FperIhjwE",
        "outputId": "1cd103ae-7dbf-49c0-a0d1-24ac805e974f",
        "colab": {
          "base_uri": "https://localhost:8080/"
        }
      },
      "source": [
        "%cd gdrive/MyDrive/my_icdar"
      ],
      "execution_count": 3,
      "outputs": [
        {
          "output_type": "stream",
          "name": "stdout",
          "text": [
            "/content/gdrive/MyDrive/my_icdar\n"
          ]
        }
      ]
    },
    {
      "cell_type": "code",
      "metadata": {
        "id": "0m3L9i6n-cCC"
      },
      "source": [
        "import matplotlib.pyplot as plt\n",
        "import numpy as np\n",
        "import tensorflow as tf\n",
        "from tensorflow import keras\n",
        "from keras_preprocessing.image import ImageDataGenerator\n",
        "import os\n",
        "from google.colab import files\n",
        "from gm_networks import unet_model"
      ],
      "execution_count": 4,
      "outputs": []
    },
    {
      "cell_type": "code",
      "metadata": {
        "id": "oxEXVl3hHffd"
      },
      "source": [
        "x = plt.imread('train/101-INPUT.jpg')\n",
        "y = plt.imread('train/101-OUTPUT-GT.png')\n",
        "\n",
        "x = np.expand_dims(x, 0)\n",
        "y = np.expand_dims(y, (0, -1))"
      ],
      "execution_count": null,
      "outputs": []
    },
    {
      "cell_type": "code",
      "metadata": {
        "id": "dg4BeN0LDWgz"
      },
      "source": [
        "NEW_SIZE = 256\n",
        "DATASET_IMAGES = 30\n",
        "concatenated_images = np.concatenate([x, y], -1)\n",
        "\n",
        "croped_images = np.zeros([DATASET_IMAGES, NEW_SIZE, NEW_SIZE, 4])\n",
        "\n",
        "for i in range(DATASET_IMAGES):\n",
        "    \n",
        "    t = tf.image.random_crop(concatenated_images, size=[1, NEW_SIZE, NEW_SIZE, 4])\n",
        "    croped_images[i] = t[0]\n",
        "\n",
        "x_train = croped_images[:, :, :, :3]\n",
        "y_train = np.expand_dims(croped_images[:, :, :, 3], -1)"
      ],
      "execution_count": null,
      "outputs": []
    },
    {
      "cell_type": "code",
      "metadata": {
        "id": "uD8KTAOSDZXE"
      },
      "source": [
        "x_datagen_args = dict(\n",
        "    rotation_range=25, \n",
        "    width_shift_range=0.1, \n",
        "    height_shift_range=0.1,\n",
        "    shear_range=0.1,\n",
        "    zoom_range=0.1,\n",
        "    horizontal_flip=True,\n",
        "    vertical_flip=True,\n",
        "    fill_mode='reflect', cval=0)\n",
        "\n",
        "y_datagen_args = dict(\n",
        "    rotation_range=25, \n",
        "    width_shift_range=0.1, \n",
        "    height_shift_range=0.1,\n",
        "    shear_range=0.1,\n",
        "    zoom_range=0.1,\n",
        "    horizontal_flip=True,\n",
        "    vertical_flip=True,\n",
        "    fill_mode='reflect', cval=0, \n",
        "    preprocessing_function = lambda x: np.where(x>0, 1, 0).astype(x.dtype))"
      ],
      "execution_count": null,
      "outputs": []
    },
    {
      "cell_type": "code",
      "metadata": {
        "id": "t9mScpdzDhK2"
      },
      "source": [
        "x_datagen = ImageDataGenerator(**x_datagen_args)\n",
        "y_datagen = ImageDataGenerator(**y_datagen_args)\n",
        "\n",
        "seed = 17\n",
        "x_datagen.fit(x_train, augment=True, seed=seed)\n",
        "y_datagen.fit(y_train, augment=True, seed=seed)\n",
        "\n",
        "x_generator = x_datagen.flow(x_train, seed=seed, batch_size=8)\n",
        "y_generator = y_datagen.flow(y_train, seed=seed, batch_size=8)\n",
        "\n",
        "train_generator = zip(x_generator, y_generator)"
      ],
      "execution_count": null,
      "outputs": []
    },
    {
      "cell_type": "code",
      "metadata": {
        "id": "wwG7zHnrDka3"
      },
      "source": [
        "model = unet_model(input_shape=(NEW_SIZE, NEW_SIZE, 3), initial_filters=4)\n",
        "model.summary()\n",
        "model.compile(optimizer='adam',\n",
        "              loss=tf.keras.losses.SparseCategoricalCrossentropy(from_logits=True),\n",
        "              metrics=['accuracy'])\n",
        "\n",
        "history = model.fit(train_generator, steps_per_epoch=50, epochs=3)"
      ],
      "execution_count": null,
      "outputs": []
    },
    {
      "cell_type": "code",
      "metadata": {
        "id": "AqagtySHcLPg"
      },
      "source": [
        "model.save('my_model')"
      ],
      "execution_count": null,
      "outputs": []
    },
    {
      "cell_type": "code",
      "metadata": {
        "id": "yJ3Uu3dlhp-W"
      },
      "source": [
        ""
      ],
      "execution_count": null,
      "outputs": []
    },
    {
      "cell_type": "code",
      "metadata": {
        "id": "CUPsVVHphwin"
      },
      "source": [
        ""
      ],
      "execution_count": null,
      "outputs": []
    }
  ]
}