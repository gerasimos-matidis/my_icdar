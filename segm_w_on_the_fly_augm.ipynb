{
 "cells": [
  {
   "cell_type": "markdown",
   "metadata": {
    "id": "KslpdmUtsrRq"
   },
   "source": [
    "# Semantic Segmentation with on the fly Data Augmentation\n"
   ]
  },
  {
   "cell_type": "code",
   "execution_count": null,
   "metadata": {
    "id": "0m3L9i6n-cCC"
   },
   "outputs": [],
   "source": [
    "import matplotlib.pyplot as plt\n",
    "import numpy as np\n",
    "import tensorflow as tf\n",
    "from tensorflow import keras\n",
    "from keras_preprocessing.image import ImageDataGenerator\n",
    "from gm_networks import unet_model"
   ]
  },
  {
   "cell_type": "code",
   "execution_count": null,
   "metadata": {
    "id": "4D3hgHsHvHrt"
   },
   "outputs": [],
   "source": [
    "# Load the initial input and output images and expand their dimensions to fit the ImageDataGenerator \n",
    "# For inputs: initial_dimensions = (width, height, 3) ---> new_dimensions = (1, width, height, 3)\n",
    "# For outputs: initial_dimensions = (width, height) ---> new_dimensions = (1, width, height, 1)\n",
    "\n",
    "x_initial_train = plt.imread('train/101-INPUT.jpg')\n",
    "y_initial_train = plt.imread('train/101-OUTPUT-GT.png')\n",
    "x_initial_train = np.expand_dims(x_initial_train, 0) \n",
    "y_initial_train = np.expand_dims(y_initial_train, (0, -1)) "
   ]
  },
  {
   "cell_type": "code",
   "execution_count": null,
   "metadata": {
    "id": "b62OZ7Rx9Un7"
   },
   "outputs": [],
   "source": [
    "# Define the new size to create images of size (NEW_SIZE, NEW_SIZE), as well as define the number of train and validation images to be created\n",
    "NEW_SIZE = 512\n",
    "TRAIN_IMAGES_NUMBER = 300"
   ]
  },
  {
   "cell_type": "code",
   "execution_count": null,
   "metadata": {
    "id": "CWcEEEXG5d8K"
   },
   "outputs": [],
   "source": [
    "# Concatenate the respective inputs and outputs to ensure that they will undergo the same crop\n",
    "concatenated_images_train = np.concatenate([x_initial_train, y_initial_train], -1)\n",
    "\n",
    "# Initialize the tensors for the training batches\n",
    "croped_images_train = np.zeros([TRAIN_IMAGES_NUMBER, NEW_SIZE, NEW_SIZE, 4])\n",
    "\n",
    "# Random croping\n",
    "for i in range(TRAIN_IMAGES_NUMBER):\n",
    "    \n",
    "    t = tf.image.random_crop(concatenated_images_train, size=[1, NEW_SIZE, NEW_SIZE, 4])\n",
    "    croped_images_train[i] = t[0]\n",
    "\n",
    "# Separate the inputs from the outputs to create the final batches\n",
    "x_train = croped_images_train[:, :, :, :3]\n",
    "y_train = np.expand_dims(croped_images_train[:, :, :, 3], -1)"
   ]
  },
  {
   "cell_type": "code",
   "execution_count": null,
   "metadata": {
    "id": "uD8KTAOSDZXE"
   },
   "outputs": [],
   "source": [
    "# Create dictionaries with the alterations to be used for the data augmentation operations for inputs and outputs\n",
    "\"\"\"\"\n",
    "NOTE: It is important to use exact the same values for the parameters in both dictionaries. \n",
    "The reason why we create 2 dictionaries instead of a common one is because  we want to add the \n",
    "preprocessing function for the output masks (this function sets all the pixel values of the mask to 0 or 1. \n",
    "While the initial ground truth images are binary, after the data augmentation operations, such as rotations and \n",
    "shifts, pixels with intermediate values are appeared due to interpolation)\n",
    "\"\"\"\n",
    "x_datagen_args = dict(\n",
    "    rotation_range=25, \n",
    "    width_shift_range=0.1, \n",
    "    height_shift_range=0.1,\n",
    "    shear_range=0.1,\n",
    "    zoom_range=0.1,\n",
    "    horizontal_flip=True,\n",
    "    vertical_flip=True,\n",
    "    fill_mode='reflect')\n",
    "\n",
    "y_datagen_args = dict(\n",
    "    rotation_range=25, \n",
    "    width_shift_range=0.1, \n",
    "    height_shift_range=0.1,\n",
    "    shear_range=0.1,\n",
    "    zoom_range=0.1,\n",
    "    horizontal_flip=True,\n",
    "    vertical_flip=True,\n",
    "    fill_mode='reflect', \n",
    "    preprocessing_function = lambda x: np.where(x>0, 1, 0).astype(x.dtype))"
   ]
  },
  {
   "cell_type": "code",
   "execution_count": null,
   "metadata": {
    "id": "t9mScpdzDhK2"
   },
   "outputs": [],
   "source": [
    "BATCH_SIZE = 8\n",
    "\n",
    "# Instatiate the generators\n",
    "x_datagen = ImageDataGenerator(**x_datagen_args)\n",
    "y_datagen = ImageDataGenerator(**y_datagen_args)\n",
    "\n",
    "# Setting the same seed number for both generators leads to the same random alterations for both generators\n",
    "seed = 19\n",
    "x_datagen.fit(x_train, augment=True, seed=seed)\n",
    "y_datagen.fit(y_train, augment=True, seed=seed)\n",
    "\n",
    "x_generator_train = x_datagen.flow(x_train, seed=seed, batch_size=BATCH_SIZE)\n",
    "y_generator_train = y_datagen.flow(y_train, seed=seed, batch_size=BATCH_SIZE)\n",
    "\n",
    "train_generator = zip(x_generator_train, y_generator_train)"
   ]
  },
  {
   "cell_type": "code",
   "execution_count": null,
   "metadata": {
    "id": "8fF9xLlD7KM4"
   },
   "outputs": [],
   "source": [
    "INITIAL_FILTERS = 32\n",
    "EPOCHS = 30\n",
    "STEPS_PER_EPOCH = TRAIN_IMAGES_NUMBER // BATCH_SIZE"
   ]
  },
  {
   "cell_type": "code",
   "execution_count": null,
   "metadata": {
    "id": "wwG7zHnrDka3"
   },
   "outputs": [],
   "source": [
    "from datetime import datetime\n",
    "# Define the model and train\n",
    "model = unet_model(input_shape=(NEW_SIZE, NEW_SIZE, 3), padding='same', initial_filters=INITIAL_FILTERS)\n",
    "model.compile(optimizer='adam',\n",
    "              loss=tf.keras.losses.BinaryCrossentropy(),\n",
    "              metrics=['accuracy'])\n",
    "\n",
    "start = datetime.now()\n",
    "history = model.fit(train_generator, steps_per_epoch=STEPS_PER_EPOCH, epochs=EPOCHS)\n",
    "stop = datetime.now()\n",
    "\n",
    "minutes = (stop - start).total_seconds() / 60\n",
    "\n",
    "print(minutes)"
   ]
  },
  {
   "cell_type": "code",
   "execution_count": null,
   "metadata": {
    "id": "AqagtySHcLPg"
   },
   "outputs": [],
   "source": [
    "import os\n",
    "# save the model and history of the training (loss, accuracy)\n",
    "model_path = f'models/Unet_fitgen_inputsize{NEW_SIZE}_initialfilters{INITIAL_FILTERS}_epochs{EPOCHS}_#TODO: loss and metric'\n",
    "model.save(model_path)\n"
   ]
  },
  {
   "cell_type": "code",
   "execution_count": null,
   "metadata": {
    "id": "N2nNTvgHsaBW"
   },
   "outputs": [],
   "source": [
    "np.save(os.path.join(model_path, 'history'), history.history)"
   ]
  }
 ],
 "metadata": {
  "accelerator": "GPU",
  "colab": {
   "collapsed_sections": [],
   "name": "segm_w_on_the_fly_augm.ipynb",
   "provenance": []
  },
  "kernelspec": {
   "display_name": "deepenv",
   "language": "python",
   "name": "deepenv"
  },
  "language_info": {
   "codemirror_mode": {
    "name": "ipython",
    "version": 3
   },
   "file_extension": ".py",
   "mimetype": "text/x-python",
   "name": "python",
   "nbconvert_exporter": "python",
   "pygments_lexer": "ipython3",
   "version": "3.8.5"
  }
 },
 "nbformat": 4,
 "nbformat_minor": 1
}
