{
  "nbformat": 4,
  "nbformat_minor": 0,
  "metadata": {
    "colab": {
      "name": "inference.ipynb",
      "provenance": [],
      "collapsed_sections": [],
      "include_colab_link": true
    },
    "kernelspec": {
      "name": "python3",
      "display_name": "Python 3"
    },
    "language_info": {
      "name": "python"
    }
  },
  "cells": [
    {
      "cell_type": "markdown",
      "metadata": {
        "id": "view-in-github",
        "colab_type": "text"
      },
      "source": [
        "<a href=\"https://colab.research.google.com/github/gerasimos-matidis/my_icdar/blob/main/inference.ipynb\" target=\"_parent\"><img src=\"https://colab.research.google.com/assets/colab-badge.svg\" alt=\"Open In Colab\"/></a>"
      ]
    },
    {
      "cell_type": "markdown",
      "metadata": {
        "id": "aI6b5ASeVHqt"
      },
      "source": [
        "#TODO:\n",
        "- Load the model\n",
        "- Get the input size for the model inputs\n",
        "- Divide the input image into the appropriate number of patches, with patch size equal to the input size of the model\n",
        "- Pass all the patches through the network to make predictions\n",
        "- Merge all the outputs of the patches so that they create a predicted image with the size of the input image  \n",
        "- Visualize the results in a \"Input image - Predicted mask - Ground truth\" plot.\n",
        "- Evaluate the results by calculating IoU between Predicted mask and ground truth image"
      ]
    },
    {
      "cell_type": "code",
      "metadata": {
        "id": "OJW0LXLzICDY"
      },
      "source": [
        "from google.colab import drive\n",
        "drive.mount('/content/gdrive')\n",
        "\n",
        "%cd gdrive/MyDrive/my_icdar"
      ],
      "execution_count": null,
      "outputs": []
    },
    {
      "cell_type": "code",
      "metadata": {
        "id": "VAcsZ7XxW7XL"
      },
      "source": [
        "from tensorflow import keras"
      ],
      "execution_count": 2,
      "outputs": []
    },
    {
      "cell_type": "code",
      "metadata": {
        "id": "2x5kHDiEGt4k"
      },
      "source": [
        "model = keras.models.load_model('models/Unet_inputsize_512_epochs50_stepsperepoch56')"
      ],
      "execution_count": 3,
      "outputs": []
    },
    {
      "cell_type": "code",
      "metadata": {
        "id": "bV6_F_A-I4hc"
      },
      "source": [
        "a = model.get_layer(index=0)"
      ],
      "execution_count": 5,
      "outputs": []
    },
    {
      "cell_type": "code",
      "metadata": {
        "id": "KwAGFooTJENg"
      },
      "source": [
        "a.input_shape[0][1]"
      ],
      "execution_count": null,
      "outputs": []
    }
  ]
}