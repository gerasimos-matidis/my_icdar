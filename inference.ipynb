{
  "nbformat": 4,
  "nbformat_minor": 0,
  "metadata": {
    "colab": {
      "name": "inference.ipynb",
      "provenance": [],
      "collapsed_sections": [],
      "include_colab_link": true
    },
    "kernelspec": {
      "name": "python3",
      "display_name": "Python 3"
    },
    "language_info": {
      "name": "python"
    }
  },
  "cells": [
    {
      "cell_type": "markdown",
      "metadata": {
        "id": "view-in-github",
        "colab_type": "text"
      },
      "source": [
        "<a href=\"https://colab.research.google.com/github/gerasimos-matidis/my_icdar/blob/main/inference.ipynb\" target=\"_parent\"><img src=\"https://colab.research.google.com/assets/colab-badge.svg\" alt=\"Open In Colab\"/></a>"
      ]
    },
    {
      "cell_type": "markdown",
      "metadata": {
        "id": "aI6b5ASeVHqt"
      },
      "source": [
        "#TODO:\n",
        "- Load the model\n",
        "- Get the input size for the model inputs\n",
        "- Divide the input image into the appropriate number of patches, with patch size equal to the input size of the model\n",
        "- Pass all the patches through the network to make predictions\n",
        "- Merge all the outputs of the patches so that they create a predicted image with the size of the input image  \n",
        "- Visualize the results in a \"Input image - Predicted mask - Ground truth\" plot.\n",
        "- Evaluate the results by calculating IoU between Predicted mask and ground truth image"
      ]
    },
    {
      "cell_type": "code",
      "metadata": {
        "id": "OJW0LXLzICDY"
      },
      "source": [
        "# Mount google drive and move to the project directory\n",
        "from google.colab import drive\n",
        "drive.mount('/content/gdrive')\n",
        "\n",
        "%cd gdrive/MyDrive/my_icdar"
      ],
      "execution_count": null,
      "outputs": []
    },
    {
      "cell_type": "code",
      "metadata": {
        "id": "VAcsZ7XxW7XL"
      },
      "source": [
        "from tensorflow import keras\n",
        "import os"
      ],
      "execution_count": null,
      "outputs": []
    },
    {
      "cell_type": "code",
      "metadata": {
        "id": "a0lOP-N2mp6W"
      },
      "source": [
        "# Display a list with the available models and ask the user to choose which to use\n",
        "models_path = 'models'\n",
        "models_list = os.listdir(models_path)\n",
        "\n",
        "# create a dictionary with numbers as keys and the model names as values\n",
        "models2dict = dict([(str(a), b) for a, b in enumerate(models_list)])\n",
        "\n",
        "print('List of Models', '--------------', sep='\\n')\n",
        "for item in models2dict.items():\n",
        "    print(*item, sep=' --> ')\n",
        "\n",
        "print('\\nChoose a model from the list by typing the number of its key + Enter:')\n",
        "x = input()\n",
        "print(f'\\n{models2dict[x]} was selected.')"
      ],
      "execution_count": null,
      "outputs": []
    },
    {
      "cell_type": "code",
      "metadata": {
        "id": "2x5kHDiEGt4k"
      },
      "source": [
        "# Load the model\n",
        "model = keras.models.load_model('models/Unet_inputsize_512_epochs50_stepsperepoch56')"
      ],
      "execution_count": null,
      "outputs": []
    },
    {
      "cell_type": "code",
      "metadata": {
        "id": "zjCDgytknwoJ"
      },
      "source": [
        "print(model.summary())"
      ],
      "execution_count": null,
      "outputs": []
    },
    {
      "cell_type": "code",
      "metadata": {
        "id": "bV6_F_A-I4hc"
      },
      "source": [
        "# Retrieve the input layer and extract the size of width of the images (which is equal to the height)\n",
        "input_layer = model.get_layer(index=0)\n",
        "a.input_shape[0][1]"
      ],
      "execution_count": null,
      "outputs": []
    }
  ]
}