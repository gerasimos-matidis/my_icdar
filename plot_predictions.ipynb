{
 "cells": [
  {
   "cell_type": "code",
   "execution_count": null,
   "metadata": {
    "colab": {
     "base_uri": "https://localhost:8080/"
    },
    "executionInfo": {
     "elapsed": 1695,
     "status": "ok",
     "timestamp": 1654177952596,
     "user": {
      "displayName": "Mager",
      "userId": "15875237439058818003"
     },
     "user_tz": -120
    },
    "id": "XPRB_gp0d0Lo",
    "outputId": "7ab12a8b-eb58-42f6-852a-61a906670c37"
   },
   "outputs": [],
   "source": [
    "# Mount google drive and move to the project directory\n",
    "from google.colab import drive\n",
    "drive.mount('/content/gdrive')\n",
    "\n",
    "%cd gdrive/MyDrive/my_icdar"
   ]
  },
  {
   "cell_type": "code",
   "execution_count": 1,
   "metadata": {
    "executionInfo": {
     "elapsed": 2827,
     "status": "ok",
     "timestamp": 1654177956816,
     "user": {
      "displayName": "Mager",
      "userId": "15875237439058818003"
     },
     "user_tz": -120
    },
    "id": "H4lLWl-XeNXF"
   },
   "outputs": [],
   "source": [
    "import os\n",
    "import tensorflow as tf\n",
    "from tensorflow import keras\n",
    "import matplotlib.pyplot as plt\n",
    "import matplotlib.gridspec as gridspec\n",
    "import numpy as np\n",
    "from tkinter.filedialog import askopenfilename, askdirectory\n",
    "try:\n",
    "    from patchify import patchify\n",
    "except:\n",
    "    %pip install patchify\n",
    "    from patchify import patchify\n",
    "    \n",
    "from utils import center_crop, rebuild_from_patches"
   ]
  },
  {
   "cell_type": "code",
   "execution_count": 2,
   "metadata": {
    "executionInfo": {
     "elapsed": 2140,
     "status": "ok",
     "timestamp": 1654177961708,
     "user": {
      "displayName": "Mager",
      "userId": "15875237439058818003"
     },
     "user_tz": -120
    },
    "id": "3p6BPqFAfiz8"
   },
   "outputs": [],
   "source": [
    "# Load the input and ground truth images \n",
    "#d1 = askdirectory()\n",
    "x = askopenfilename(initialdir='.', title='Select input image from validation data')\n",
    "y = askopenfilename(title='Select output image from validation data')\n",
    "x_initial_valid = plt.imread(x)\n",
    "y_initial_valid = plt.imread(y)\n",
    "\n",
    "CROP_SIZE_W = 3072 \n",
    "CROP_SIZE_H = 3072\n",
    "\n",
    "x_initial_valid = center_crop(x_initial_valid, (CROP_SIZE_H, CROP_SIZE_W))\n",
    "y_initial_valid = center_crop(y_initial_valid, (CROP_SIZE_H, CROP_SIZE_W))"
   ]
  },
  {
   "cell_type": "code",
   "execution_count": 3,
   "metadata": {
    "executionInfo": {
     "elapsed": 186,
     "status": "ok",
     "timestamp": 1654177965084,
     "user": {
      "displayName": "Mager",
      "userId": "15875237439058818003"
     },
     "user_tz": -120
    },
    "id": "GzablMFen8fn"
   },
   "outputs": [],
   "source": [
    "INPUT_SHAPE = (512, 512, 3)\n",
    "PATCHES_STEP = 256\n",
    "\n",
    "input_patches = np.squeeze(patchify(x_initial_valid, INPUT_SHAPE, step=PATCHES_STEP))\n",
    "ground_truth_patches = np.squeeze(patchify(y_initial_valid, INPUT_SHAPE[:-1], step=PATCHES_STEP))\n",
    "\n",
    "x = np.reshape(input_patches, ((-1, ) + input_patches.shape[-3:]))\n",
    "y = np.reshape(ground_truth_patches, ((-1, ) + ground_truth_patches.shape[-2:]))\n",
    "patches_num = x.shape[0]"
   ]
  },
  {
   "cell_type": "code",
   "execution_count": 4,
   "metadata": {
    "colab": {
     "base_uri": "https://localhost:8080/"
    },
    "executionInfo": {
     "elapsed": 44891,
     "status": "ok",
     "timestamp": 1654178035534,
     "user": {
      "displayName": "Mager",
      "userId": "15875237439058818003"
     },
     "user_tz": -120
    },
    "id": "ewwQ13xJdf93",
    "outputId": "3b26a25d-a5c1-40d8-cc3b-58efe7c63f40"
   },
   "outputs": [
    {
     "name": "stdout",
     "output_type": "stream",
     "text": [
      "Loading ==> unet_input512_filters32_images160_independent_patches_optAdam_lr0.0010_eps150\n",
      "4/4 [==============================] - 6s 789ms/step\n",
      "Loading ==> unet_input512_filters32_images160_random_patches_optAdam_lr0.0010_eps150\n",
      "4/4 [==============================] - 1s 237ms/step\n",
      "Loading ==> unet_input512_filters32_images589_overlapped_patches_optAdam_lr0.0010_eps150\n",
      "4/4 [==============================] - 1s 287ms/step\n",
      "Loading ==> unet_input512_filters32_images589_random_patches_optAdam_lr0.0010_eps150\n",
      "4/4 [==============================] - 1s 253ms/step\n"
     ]
    }
   ],
   "source": [
    "# Display a list with the available models and ask the user to choose which to use\n",
    "models_path = askdirectory(initialdir='.', title='Select the directory with the models' )\n",
    "models_list = [name for name in os.listdir(models_path) if os.path.isdir(os.path.join(models_path, name))]\n",
    "if 'logs' in models_list:\n",
    "    models_list.remove('logs')\n",
    "\n",
    "bce = keras.losses.BinaryCrossentropy()\n",
    "\n",
    "predictions = []\n",
    "for modelname in models_list:\n",
    "    print(f'Loading ==> {modelname}')\n",
    "    model = keras.models.load_model(os.path.join(models_path, modelname))\n",
    "    splitted_modelname = modelname.split('_')[3:6]\n",
    "    prediction = np.squeeze(model.predict(x))\n",
    "    binarized_prediction = np.where(prediction > 0.5, 1, 0)\n",
    "    loss = np.zeros([patches_num, 1])\n",
    "    mean_iou = np.zeros([patches_num, 1])\n",
    "    for i in range(patches_num):\n",
    "        m = keras.metrics.MeanIoU(num_classes=2) # NOTE: To check why it gives different results when is outside loop\n",
    "        loss[i] = bce(y[i], prediction[i]).numpy()\n",
    "        m.update_state(y[i], binarized_prediction[i])\n",
    "        mean_iou[i] = m.result().numpy()\n",
    "            \n",
    "    d = {\n",
    "        'mode': splitted_modelname[1] + ' ' + splitted_modelname[2],\n",
    "        'initial images': splitted_modelname[0].replace('images', ''),\n",
    "        'model output': binarized_prediction,\n",
    "        'loss': loss,\n",
    "        'mean_iou': mean_iou\n",
    "    }\n",
    "    predictions.append(d)"
   ]
  },
  {
   "cell_type": "code",
   "execution_count": 5,
   "metadata": {
    "executionInfo": {
     "elapsed": 967,
     "status": "ok",
     "timestamp": 1654178041744,
     "user": {
      "displayName": "Mager",
      "userId": "15875237439058818003"
     },
     "user_tz": -120
    },
    "id": "zqvVP0XbGAOC"
   },
   "outputs": [],
   "source": [
    "np.save(os.path.join(models_path, 'predictions.npy'), predictions)"
   ]
  },
  {
   "cell_type": "code",
   "execution_count": 6,
   "metadata": {
    "executionInfo": {
     "elapsed": 948,
     "status": "ok",
     "timestamp": 1654178043608,
     "user": {
      "displayName": "Mager",
      "userId": "15875237439058818003"
     },
     "user_tz": -120
    },
    "id": "oWnJMEQxHkqZ"
   },
   "outputs": [],
   "source": [
    "validation_pairs = {'x': x, 'y': y}\n",
    "np.save(os.path.join(models_path, 'validation_pairs.npy'), validation_pairs)"
   ]
  },
  {
   "cell_type": "code",
   "execution_count": null,
   "metadata": {},
   "outputs": [],
   "source": []
  }
 ],
 "metadata": {
  "accelerator": "GPU",
  "colab": {
   "authorship_tag": "ABX9TyMek7v/4GItQONgkzCqjZlh",
   "collapsed_sections": [],
   "name": "plot_predictions.ipynb",
   "provenance": []
  },
  "interpreter": {
   "hash": "5afde5fb8be75fa4232c2400db5e0de612e5b75b692446a76c1449fdda253404"
  },
  "kernelspec": {
   "display_name": "Python [conda env:deepenv] *",
   "language": "python",
   "name": "conda-env-deepenv-py"
  },
  "language_info": {
   "codemirror_mode": {
    "name": "ipython",
    "version": 3
   },
   "file_extension": ".py",
   "mimetype": "text/x-python",
   "name": "python",
   "nbconvert_exporter": "python",
   "pygments_lexer": "ipython3",
   "version": "3.9.12"
  }
 },
 "nbformat": 4,
 "nbformat_minor": 1
}
