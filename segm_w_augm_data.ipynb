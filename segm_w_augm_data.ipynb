{
 "cells": [
  {
   "cell_type": "code",
   "execution_count": null,
   "id": "987abf19",
   "metadata": {},
   "outputs": [],
   "source": [
    "import os\n",
    "import matplotlib.pyplot as plt\n",
    "import numpy as np\n",
    "import tensorflow as tf\n",
    "from tensorflow import keras\n",
    "from tensorflow.keras.callbacks import TensorBoard\n",
    "from keras_preprocessing.image import ImageDataGenerator\n",
    "from gm_networks import unet_model\n",
    "from utils import create_dataset_from_one_image"
   ]
  },
  {
   "cell_type": "code",
   "execution_count": null,
   "id": "61cff6a3",
   "metadata": {},
   "outputs": [],
   "source": [
    "PARENT_PATH = 'models/f0002_w_val_data'\n",
    "# Model/training hyperparameters\n",
    "INPUT_SHAPE = (512, 512, 3)\n",
    "CROPPING_MODE = 'overlapped_patches'  # (copy-paste a mode from: independent_patches, overlapped_patches, random_patches)\n",
    "TRAIN_IMAGES_NUMBER = None # required only for 'random_patches' mode\n",
    "PATCHES_STEP = 256  # required only for 'overlapped_patches' mode\n",
    "INITIAL_FILTERS = 32\n",
    "BATCH_SIZE = 8\n",
    "EPOCHS = 500\n",
    "LEARNING_RATE = 0.0002"
   ]
  },
  {
   "cell_type": "code",
   "execution_count": null,
   "id": "b10f0dcc",
   "metadata": {},
   "outputs": [],
   "source": [
    "# Load the initial input and output images and expand their dimensions to fit the ImageDataGenerator \n",
    "# For inputs: initial_dimensions = (width, height, 3) ---> new_dimensions = (1, width, height, 3)\n",
    "# For outputs: initial_dimensions = (width, height) ---> new_dimensions = (1, width, height, 1)\n",
    "\n",
    "x_initial_train = plt.imread('train/101-INPUT.jpg').astype('float32')[650:-550]\n",
    "y_initial_train = plt.imread('train/101-OUTPUT-GT.png')[650:-550]\n",
    "x_initial_valid = plt.imread('validation/201-INPUT.jpg').astype('float32') [500:-50]\n",
    "y_initial_valid = plt.imread('validation/201-OUTPUT-GT.png')[500:-50]"
   ]
  },
  {
   "cell_type": "code",
   "execution_count": null,
   "id": "47272968",
   "metadata": {},
   "outputs": [],
   "source": [
    "# Create a dataset with the selected cropping mode\n",
    "x_train, y_train = create_dataset_from_one_image(x_initial_train, \n",
    "                                                 y_initial_train, \n",
    "                                                 INPUT_SHAPE[0], \n",
    "                                                 mode=CROPPING_MODE, \n",
    "                                                 new_images_number=TRAIN_IMAGES_NUMBER, \n",
    "                                                 patches_step=PATCHES_STEP)\n",
    "\n",
    "training_images_number = x_train.shape[0]"
   ]
  },
  {
   "cell_type": "code",
   "execution_count": null,
   "id": "3194b806",
   "metadata": {},
   "outputs": [],
   "source": [
    "# create a validation dataset\n",
    "x_valid, y_valid = create_dataset_from_one_image(x_initial_valid, \n",
    "                                                 y_initial_valid, \n",
    "                                                 INPUT_SHAPE[0], \n",
    "                                                 mode='independent_patches')\n",
    "\n",
    "valid_images_number = x_valid.shape[0]\n",
    "\n",
    "# select a subset from the validation dataset equal to 33% of the training dataset\n",
    "# NOTE: If 0.33 * training_images_number > valid_images_number, then an Index Error is raised\n",
    "val_data_size = training_images_number // 3\n",
    "perm = np.random.permutation(valid_images_number)\n",
    "x_valid = x_valid[perm][:val_data_size]\n",
    "y_valid = y_valid[perm][:val_data_size]\n",
    "\n",
    "print(x_valid.shape)"
   ]
  },
  {
   "cell_type": "code",
   "execution_count": null,
   "id": "69311789",
   "metadata": {},
   "outputs": [],
   "source": [
    "# Create dictionaries with the alterations to be used for the data augmentation operations for inputs and outputs\n",
    "\"\"\"\"\n",
    "NOTE: It is important to use exact the same values for the parameters in both dictionaries. \n",
    "The reason why we create 2 dictionaries instead of a common one is because  we want to add the \n",
    "preprocessing function for the output masks (this function sets all the pixel values of the mask to 0 or 1. \n",
    "While the initial ground truth images are binary, after the data augmentation operations, such as rotations and \n",
    "shifts, pixels with intermediate values are appeared due to interpolation)\n",
    "\"\"\"\n",
    "x_datagen_args = dict(\n",
    "    rotation_range=25, \n",
    "    width_shift_range=0.1, \n",
    "    height_shift_range=0.1,\n",
    "    shear_range=0.1,\n",
    "    zoom_range=0.1,\n",
    "    horizontal_flip=True,\n",
    "    vertical_flip=True,\n",
    "    fill_mode='reflect')\n",
    "\n",
    "y_datagen_args = dict(\n",
    "    rotation_range=25, \n",
    "    width_shift_range=0.1, \n",
    "    height_shift_range=0.1,\n",
    "    shear_range=0.1,\n",
    "    zoom_range=0.1,\n",
    "    horizontal_flip=True,\n",
    "    vertical_flip=True,\n",
    "    fill_mode='reflect', \n",
    "    preprocessing_function = lambda x: np.where(x>0, 1, 0).astype(x.dtype))"
   ]
  },
  {
   "cell_type": "code",
   "execution_count": null,
   "id": "b2c6d3c4",
   "metadata": {},
   "outputs": [],
   "source": [
    "BATCH_SIZE = 8\n",
    "\n",
    "# Instatiate the generators\n",
    "x_datagen = ImageDataGenerator(**x_datagen_args)\n",
    "y_datagen = ImageDataGenerator(**y_datagen_args)\n",
    "\n",
    "# Setting the same seed number for both generators leads to the same random alterations for both generators\n",
    "seed = 19\n",
    "x_datagen.fit(x_train, augment=True, seed=seed)\n",
    "y_datagen.fit(y_train, augment=True, seed=seed)\n",
    "\n",
    "x_generator_train = x_datagen.flow(x_train, seed=seed, batch_size=BATCH_SIZE)\n",
    "y_generator_train = y_datagen.flow(y_train, seed=seed, batch_size=BATCH_SIZE)\n",
    "\n",
    "train_generator = zip(x_generator_train, y_generator_train)"
   ]
  },
  {
   "cell_type": "code",
   "execution_count": null,
   "id": "734dcfe5",
   "metadata": {},
   "outputs": [],
   "source": [
    "training_images_number = x_train.shape[0]\n",
    "steps_per_epoch = training_images_number // BATCH_SIZE\n",
    "\n",
    "# Define the model and train\n",
    "model = unet_model(input_shape=INPUT_SHAPE, initial_filters=INITIAL_FILTERS)\n",
    "model.compile(optimizer=tf.keras.optimizers.Adam(learning_rate=LEARNING_RATE),\n",
    "              loss=keras.losses.BinaryCrossentropy(),\n",
    "              metrics=['accuracy'])"
   ]
  },
  {
   "cell_type": "code",
   "execution_count": null,
   "id": "ea49289f",
   "metadata": {},
   "outputs": [],
   "source": [
    "if not os.path.exists(PARENT_PATH):\n",
    "    os.makedirs(PARENT_PATH)\n",
    "\n",
    "model_name = f'unet_input{INPUT_SHAPE[0]}_filters{INITIAL_FILTERS}_images{x_train.shape[0]}_{CROPPING_MODE}_optAdam_lr{\"{:0.4f}\".format(model.optimizer.lr.value().numpy())}_eps{EPOCHS}' #TODO: loss and metric'\n",
    "model_path = os.path.join(PARENT_PATH, model_name)\n",
    "\n",
    "tensorboard = TensorBoard(log_dir=os.path.join(PARENT_PATH, f'logs/{model_name}'))"
   ]
  },
  {
   "cell_type": "code",
   "execution_count": null,
   "id": "57392937",
   "metadata": {},
   "outputs": [],
   "source": [
    "history = model.fit(train_generator, \n",
    "                    steps_per_epoch=steps_per_epoch, \n",
    "                    epochs=EPOCHS,\n",
    "                    validation_data=(x_valid, y_valid),\n",
    "                    callbacks=[tensorboard]\n",
    "                   )"
   ]
  },
  {
   "cell_type": "code",
   "execution_count": null,
   "id": "57c082ed",
   "metadata": {},
   "outputs": [],
   "source": [
    "# save the model and history of the training (loss, accuracy)\n",
    "model.save(model_path)\n",
    "np.save(os.path.join(model_path, 'history'), history.history)"
   ]
  },
  {
   "cell_type": "code",
   "execution_count": null,
   "id": "fb065d49",
   "metadata": {},
   "outputs": [],
   "source": []
  }
 ],
 "metadata": {
  "interpreter": {
   "hash": "5afde5fb8be75fa4232c2400db5e0de612e5b75b692446a76c1449fdda253404"
  },
  "kernelspec": {
   "display_name": "Python [conda env:deepenv] *",
   "language": "python",
   "name": "conda-env-deepenv-py"
  },
  "language_info": {
   "codemirror_mode": {
    "name": "ipython",
    "version": 3
   },
   "file_extension": ".py",
   "mimetype": "text/x-python",
   "name": "python",
   "nbconvert_exporter": "python",
   "pygments_lexer": "ipython3",
   "version": "3.9.12"
  }
 },
 "nbformat": 4,
 "nbformat_minor": 5
}
